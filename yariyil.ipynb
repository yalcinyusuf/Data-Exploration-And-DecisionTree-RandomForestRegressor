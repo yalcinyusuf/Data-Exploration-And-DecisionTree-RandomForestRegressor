{
  "cells": [
    {
      "cell_type": "code",
      "execution_count": null,
      "metadata": {
        "_cell_guid": "b1076dfc-b9ad-4769-8c92-a6c4dae69d19",
        "_uuid": "8f2839f25d086af736a60e9eeb907d3b93b6e0e5",
        "execution": {
          "iopub.execute_input": "2022-05-06T15:04:06.317451Z",
          "iopub.status.busy": "2022-05-06T15:04:06.316286Z",
          "iopub.status.idle": "2022-05-06T15:04:06.338609Z",
          "shell.execute_reply": "2022-05-06T15:04:06.337865Z"
        },
        "papermill": {
          "duration": 0.108023,
          "end_time": "2022-05-06T15:04:06.341504",
          "exception": false,
          "start_time": "2022-05-06T15:04:06.233481",
          "status": "completed"
        },
        "tags": [],
        "id": "rQysuQO9YfgI",
        "outputId": "a67b6bf3-af10-4e2e-bc25-19d6dbd15c94"
      },
      "outputs": [
        {
          "name": "stdout",
          "output_type": "stream",
          "text": [
            "/kaggle/input/lebron/train.csv\n"
          ]
        }
      ],
      "source": [
        "# This Python 3 environment comes with many helpful analytics libraries installed\n",
        "# It is defined by the kaggle/python Docker image: https://github.com/kaggle/docker-python\n",
        "# For example, here's several helpful packages to load\n",
        "\n",
        "import numpy as np # linear algebra\n",
        "import pandas as pd # data processing, CSV file I/O (e.g. pd.read_csv)\n",
        "\n",
        "# Input data files are available in the read-only \"../input/\" directory\n",
        "# For example, running this (by clicking run or pressing Shift+Enter) will list all files under the input directory\n",
        "\n",
        "import os\n",
        "for dirname, _, filenames in os.walk('/kaggle/input'):\n",
        "    for filename in filenames:\n",
        "        print(os.path.join(dirname, filename))\n",
        "\n",
        "# You can write up to 20GB to the current directory (/kaggle/working/) that gets preserved as output when you create a version using \"Save & Run All\" \n",
        "# You can also write temporary files to /kaggle/temp/, but they won't be saved outside of the current session"
      ],
      "id": "rQysuQO9YfgI"
    },
    {
      "cell_type": "code",
      "execution_count": null,
      "metadata": {
        "execution": {
          "iopub.execute_input": "2022-05-06T15:04:06.508219Z",
          "iopub.status.busy": "2022-05-06T15:04:06.507674Z",
          "iopub.status.idle": "2022-05-06T15:04:06.594211Z",
          "shell.execute_reply": "2022-05-06T15:04:06.593607Z"
        },
        "papermill": {
          "duration": 0.169121,
          "end_time": "2022-05-06T15:04:06.596575",
          "exception": false,
          "start_time": "2022-05-06T15:04:06.427454",
          "status": "completed"
        },
        "tags": [],
        "id": "ah4gUZh7YfgL"
      },
      "outputs": [],
      "source": [
        "df = pd.read_csv('../input/lebron/train.csv')"
      ],
      "id": "ah4gUZh7YfgL"
    },
    {
      "cell_type": "markdown",
      "metadata": {
        "papermill": {
          "duration": 0.07839,
          "end_time": "2022-05-06T15:04:06.753990",
          "exception": false,
          "start_time": "2022-05-06T15:04:06.675600",
          "status": "completed"
        },
        "tags": [],
        "id": "3rfRZJpaYfgL"
      },
      "source": [
        "Soru 1"
      ],
      "id": "3rfRZJpaYfgL"
    },
    {
      "cell_type": "code",
      "execution_count": null,
      "metadata": {
        "execution": {
          "iopub.execute_input": "2022-05-06T15:04:06.916214Z",
          "iopub.status.busy": "2022-05-06T15:04:06.915682Z",
          "iopub.status.idle": "2022-05-06T15:04:06.975700Z",
          "shell.execute_reply": "2022-05-06T15:04:06.974478Z"
        },
        "papermill": {
          "duration": 0.143607,
          "end_time": "2022-05-06T15:04:06.977830",
          "exception": false,
          "start_time": "2022-05-06T15:04:06.834223",
          "status": "completed"
        },
        "tags": [],
        "id": "27HRsrFgYfgM",
        "outputId": "3614aabb-ab6d-49a5-dffc-fbfcf62aeb65"
      },
      "outputs": [
        {
          "data": {
            "text/html": [
              "<div>\n",
              "<style scoped>\n",
              "    .dataframe tbody tr th:only-of-type {\n",
              "        vertical-align: middle;\n",
              "    }\n",
              "\n",
              "    .dataframe tbody tr th {\n",
              "        vertical-align: top;\n",
              "    }\n",
              "\n",
              "    .dataframe thead th {\n",
              "        text-align: right;\n",
              "    }\n",
              "</style>\n",
              "<table border=\"1\" class=\"dataframe\">\n",
              "  <thead>\n",
              "    <tr style=\"text-align: right;\">\n",
              "      <th></th>\n",
              "      <th>Unnamed: 0</th>\n",
              "      <th>self previous shot</th>\n",
              "      <th>player position</th>\n",
              "      <th>home game</th>\n",
              "      <th>location x</th>\n",
              "      <th>opponent previous shot</th>\n",
              "      <th>home team</th>\n",
              "      <th>shot type</th>\n",
              "      <th>points</th>\n",
              "      <th>away team</th>\n",
              "      <th>...</th>\n",
              "      <th>time</th>\n",
              "      <th>date</th>\n",
              "      <th>shoot player</th>\n",
              "      <th>time from last shot</th>\n",
              "      <th>quarter</th>\n",
              "      <th>current shot outcome</th>\n",
              "      <th>My_Team</th>\n",
              "      <th>HomeAway</th>\n",
              "      <th>points_gained</th>\n",
              "      <th>difference</th>\n",
              "    </tr>\n",
              "  </thead>\n",
              "  <tbody>\n",
              "    <tr>\n",
              "      <th>10</th>\n",
              "      <td>10</td>\n",
              "      <td>MISSED</td>\n",
              "      <td>SF</td>\n",
              "      <td>Yes</td>\n",
              "      <td>131.0</td>\n",
              "      <td>SCORED</td>\n",
              "      <td>CLE</td>\n",
              "      <td>Jump Shot</td>\n",
              "      <td>2</td>\n",
              "      <td>NYK</td>\n",
              "      <td>...</td>\n",
              "      <td>1:01</td>\n",
              "      <td>2016-10-25</td>\n",
              "      <td>LeBron James</td>\n",
              "      <td>27.0</td>\n",
              "      <td>1</td>\n",
              "      <td>SCORED</td>\n",
              "      <td>CLE</td>\n",
              "      <td>CLE_NYK</td>\n",
              "      <td>2.0</td>\n",
              "      <td>1.0</td>\n",
              "    </tr>\n",
              "    <tr>\n",
              "      <th>17</th>\n",
              "      <td>17</td>\n",
              "      <td>MISSED</td>\n",
              "      <td>SF</td>\n",
              "      <td>Yes</td>\n",
              "      <td>236.0</td>\n",
              "      <td>MISSED</td>\n",
              "      <td>CLE</td>\n",
              "      <td>Jump Shot</td>\n",
              "      <td>3</td>\n",
              "      <td>NYK</td>\n",
              "      <td>...</td>\n",
              "      <td>2:33</td>\n",
              "      <td>2016-10-25</td>\n",
              "      <td>LeBron James</td>\n",
              "      <td>6.0</td>\n",
              "      <td>1</td>\n",
              "      <td>MISSED</td>\n",
              "      <td>CLE</td>\n",
              "      <td>CLE_NYK</td>\n",
              "      <td>0.0</td>\n",
              "      <td>5.0</td>\n",
              "    </tr>\n",
              "    <tr>\n",
              "      <th>23</th>\n",
              "      <td>23</td>\n",
              "      <td>BLOCKED</td>\n",
              "      <td>SF</td>\n",
              "      <td>Yes</td>\n",
              "      <td>264.0</td>\n",
              "      <td>SCORED</td>\n",
              "      <td>CLE</td>\n",
              "      <td>Jump Shot</td>\n",
              "      <td>3</td>\n",
              "      <td>NYK</td>\n",
              "      <td>...</td>\n",
              "      <td>3:44</td>\n",
              "      <td>2016-10-25</td>\n",
              "      <td>LeBron James</td>\n",
              "      <td>42.0</td>\n",
              "      <td>1</td>\n",
              "      <td>MISSED</td>\n",
              "      <td>CLE</td>\n",
              "      <td>CLE_NYK</td>\n",
              "      <td>0.0</td>\n",
              "      <td>3.0</td>\n",
              "    </tr>\n",
              "    <tr>\n",
              "      <th>33</th>\n",
              "      <td>33</td>\n",
              "      <td>SCORED</td>\n",
              "      <td>SF</td>\n",
              "      <td>Yes</td>\n",
              "      <td>50.0</td>\n",
              "      <td>MISSED</td>\n",
              "      <td>CLE</td>\n",
              "      <td>Running Layup</td>\n",
              "      <td>2</td>\n",
              "      <td>NYK</td>\n",
              "      <td>...</td>\n",
              "      <td>6:04</td>\n",
              "      <td>2016-10-25</td>\n",
              "      <td>LeBron James</td>\n",
              "      <td>17.0</td>\n",
              "      <td>1</td>\n",
              "      <td>SCORED</td>\n",
              "      <td>CLE</td>\n",
              "      <td>CLE_NYK</td>\n",
              "      <td>2.0</td>\n",
              "      <td>7.0</td>\n",
              "    </tr>\n",
              "    <tr>\n",
              "      <th>44</th>\n",
              "      <td>44</td>\n",
              "      <td>MISSED</td>\n",
              "      <td>SF</td>\n",
              "      <td>Yes</td>\n",
              "      <td>52.0</td>\n",
              "      <td>SCORED</td>\n",
              "      <td>CLE</td>\n",
              "      <td>Putback Dunk</td>\n",
              "      <td>2</td>\n",
              "      <td>NYK</td>\n",
              "      <td>...</td>\n",
              "      <td>8:23</td>\n",
              "      <td>2016-10-25</td>\n",
              "      <td>LeBron James</td>\n",
              "      <td>4.0</td>\n",
              "      <td>1</td>\n",
              "      <td>SCORED</td>\n",
              "      <td>CLE</td>\n",
              "      <td>CLE_NYK</td>\n",
              "      <td>2.0</td>\n",
              "      <td>7.0</td>\n",
              "    </tr>\n",
              "    <tr>\n",
              "      <th>...</th>\n",
              "      <td>...</td>\n",
              "      <td>...</td>\n",
              "      <td>...</td>\n",
              "      <td>...</td>\n",
              "      <td>...</td>\n",
              "      <td>...</td>\n",
              "      <td>...</td>\n",
              "      <td>...</td>\n",
              "      <td>...</td>\n",
              "      <td>...</td>\n",
              "      <td>...</td>\n",
              "      <td>...</td>\n",
              "      <td>...</td>\n",
              "      <td>...</td>\n",
              "      <td>...</td>\n",
              "      <td>...</td>\n",
              "      <td>...</td>\n",
              "      <td>...</td>\n",
              "      <td>...</td>\n",
              "      <td>...</td>\n",
              "      <td>...</td>\n",
              "    </tr>\n",
              "    <tr>\n",
              "      <th>13159</th>\n",
              "      <td>13159</td>\n",
              "      <td>MISSED</td>\n",
              "      <td>SF</td>\n",
              "      <td>No</td>\n",
              "      <td>51.0</td>\n",
              "      <td>SCORED</td>\n",
              "      <td>ATL</td>\n",
              "      <td>Driving Layup</td>\n",
              "      <td>2</td>\n",
              "      <td>CLE</td>\n",
              "      <td>...</td>\n",
              "      <td>1:16</td>\n",
              "      <td>2017-04-09</td>\n",
              "      <td>LeBron James</td>\n",
              "      <td>47.0</td>\n",
              "      <td>4</td>\n",
              "      <td>MISSED</td>\n",
              "      <td>CLE</td>\n",
              "      <td>ATL_CLE</td>\n",
              "      <td>0.0</td>\n",
              "      <td>17.0</td>\n",
              "    </tr>\n",
              "    <tr>\n",
              "      <th>13167</th>\n",
              "      <td>13167</td>\n",
              "      <td>SCORED</td>\n",
              "      <td>SF</td>\n",
              "      <td>No</td>\n",
              "      <td>58.0</td>\n",
              "      <td>SCORED</td>\n",
              "      <td>ATL</td>\n",
              "      <td>Driving Layup</td>\n",
              "      <td>2</td>\n",
              "      <td>CLE</td>\n",
              "      <td>...</td>\n",
              "      <td>3:36</td>\n",
              "      <td>2017-04-09</td>\n",
              "      <td>LeBron James</td>\n",
              "      <td>58.0</td>\n",
              "      <td>4</td>\n",
              "      <td>SCORED</td>\n",
              "      <td>CLE</td>\n",
              "      <td>ATL_CLE</td>\n",
              "      <td>2.0</td>\n",
              "      <td>15.0</td>\n",
              "    </tr>\n",
              "    <tr>\n",
              "      <th>13174</th>\n",
              "      <td>13174</td>\n",
              "      <td>SCORED</td>\n",
              "      <td>SF</td>\n",
              "      <td>No</td>\n",
              "      <td>52.0</td>\n",
              "      <td>MISSED</td>\n",
              "      <td>ATL</td>\n",
              "      <td>Driving Dunk</td>\n",
              "      <td>2</td>\n",
              "      <td>CLE</td>\n",
              "      <td>...</td>\n",
              "      <td>5:54</td>\n",
              "      <td>2017-04-09</td>\n",
              "      <td>LeBron James</td>\n",
              "      <td>29.0</td>\n",
              "      <td>4</td>\n",
              "      <td>SCORED</td>\n",
              "      <td>CLE</td>\n",
              "      <td>ATL_CLE</td>\n",
              "      <td>2.0</td>\n",
              "      <td>14.0</td>\n",
              "    </tr>\n",
              "    <tr>\n",
              "      <th>13182</th>\n",
              "      <td>13182</td>\n",
              "      <td>SCORED</td>\n",
              "      <td>SF</td>\n",
              "      <td>No</td>\n",
              "      <td>77.0</td>\n",
              "      <td>SCORED</td>\n",
              "      <td>ATL</td>\n",
              "      <td>Fadeaway Jumper</td>\n",
              "      <td>2</td>\n",
              "      <td>CLE</td>\n",
              "      <td>...</td>\n",
              "      <td>8:54</td>\n",
              "      <td>2017-04-09</td>\n",
              "      <td>LeBron James</td>\n",
              "      <td>31.0</td>\n",
              "      <td>4</td>\n",
              "      <td>MISSED</td>\n",
              "      <td>CLE</td>\n",
              "      <td>ATL_CLE</td>\n",
              "      <td>0.0</td>\n",
              "      <td>14.0</td>\n",
              "    </tr>\n",
              "    <tr>\n",
              "      <th>13192</th>\n",
              "      <td>13192</td>\n",
              "      <td>MISSED</td>\n",
              "      <td>SF</td>\n",
              "      <td>No</td>\n",
              "      <td>141.0</td>\n",
              "      <td>MISSED</td>\n",
              "      <td>ATL</td>\n",
              "      <td>Floating Jump Shot</td>\n",
              "      <td>2</td>\n",
              "      <td>CLE</td>\n",
              "      <td>...</td>\n",
              "      <td>2:08</td>\n",
              "      <td>2017-04-09</td>\n",
              "      <td>LeBron James</td>\n",
              "      <td>76.0</td>\n",
              "      <td>5</td>\n",
              "      <td>MISSED</td>\n",
              "      <td>CLE</td>\n",
              "      <td>ATL_CLE</td>\n",
              "      <td>0.0</td>\n",
              "      <td>14.0</td>\n",
              "    </tr>\n",
              "  </tbody>\n",
              "</table>\n",
              "<p>1296 rows × 21 columns</p>\n",
              "</div>"
            ],
            "text/plain": [
              "       Unnamed: 0 self previous shot player position home game  location x  \\\n",
              "10             10             MISSED              SF       Yes       131.0   \n",
              "17             17             MISSED              SF       Yes       236.0   \n",
              "23             23            BLOCKED              SF       Yes       264.0   \n",
              "33             33             SCORED              SF       Yes        50.0   \n",
              "44             44             MISSED              SF       Yes        52.0   \n",
              "...           ...                ...             ...       ...         ...   \n",
              "13159       13159             MISSED              SF        No        51.0   \n",
              "13167       13167             SCORED              SF        No        58.0   \n",
              "13174       13174             SCORED              SF        No        52.0   \n",
              "13182       13182             SCORED              SF        No        77.0   \n",
              "13192       13192             MISSED              SF        No       141.0   \n",
              "\n",
              "      opponent previous shot home team           shot type  points away team  \\\n",
              "10                    SCORED       CLE           Jump Shot       2       NYK   \n",
              "17                    MISSED       CLE           Jump Shot       3       NYK   \n",
              "23                    SCORED       CLE           Jump Shot       3       NYK   \n",
              "33                    MISSED       CLE       Running Layup       2       NYK   \n",
              "44                    SCORED       CLE        Putback Dunk       2       NYK   \n",
              "...                      ...       ...                 ...     ...       ...   \n",
              "13159                 SCORED       ATL       Driving Layup       2       CLE   \n",
              "13167                 SCORED       ATL       Driving Layup       2       CLE   \n",
              "13174                 MISSED       ATL        Driving Dunk       2       CLE   \n",
              "13182                 SCORED       ATL     Fadeaway Jumper       2       CLE   \n",
              "13192                 MISSED       ATL  Floating Jump Shot       2       CLE   \n",
              "\n",
              "       ...  time        date  shoot player time from last shot  quarter  \\\n",
              "10     ...  1:01  2016-10-25  LeBron James                27.0        1   \n",
              "17     ...  2:33  2016-10-25  LeBron James                 6.0        1   \n",
              "23     ...  3:44  2016-10-25  LeBron James                42.0        1   \n",
              "33     ...  6:04  2016-10-25  LeBron James                17.0        1   \n",
              "44     ...  8:23  2016-10-25  LeBron James                 4.0        1   \n",
              "...    ...   ...         ...           ...                 ...      ...   \n",
              "13159  ...  1:16  2017-04-09  LeBron James                47.0        4   \n",
              "13167  ...  3:36  2017-04-09  LeBron James                58.0        4   \n",
              "13174  ...  5:54  2017-04-09  LeBron James                29.0        4   \n",
              "13182  ...  8:54  2017-04-09  LeBron James                31.0        4   \n",
              "13192  ...  2:08  2017-04-09  LeBron James                76.0        5   \n",
              "\n",
              "       current shot outcome My_Team HomeAway points_gained  difference  \n",
              "10                   SCORED     CLE  CLE_NYK           2.0         1.0  \n",
              "17                   MISSED     CLE  CLE_NYK           0.0         5.0  \n",
              "23                   MISSED     CLE  CLE_NYK           0.0         3.0  \n",
              "33                   SCORED     CLE  CLE_NYK           2.0         7.0  \n",
              "44                   SCORED     CLE  CLE_NYK           2.0         7.0  \n",
              "...                     ...     ...      ...           ...         ...  \n",
              "13159                MISSED     CLE  ATL_CLE           0.0        17.0  \n",
              "13167                SCORED     CLE  ATL_CLE           2.0        15.0  \n",
              "13174                SCORED     CLE  ATL_CLE           2.0        14.0  \n",
              "13182                MISSED     CLE  ATL_CLE           0.0        14.0  \n",
              "13192                MISSED     CLE  ATL_CLE           0.0        14.0  \n",
              "\n",
              "[1296 rows x 21 columns]"
            ]
          },
          "execution_count": 3,
          "metadata": {},
          "output_type": "execute_result"
        }
      ],
      "source": [
        "df_Lebron = df[df[\"shoot player\"] == 'LeBron James']\n",
        "df_Lebron"
      ],
      "id": "27HRsrFgYfgM"
    },
    {
      "cell_type": "markdown",
      "metadata": {
        "papermill": {
          "duration": 0.080183,
          "end_time": "2022-05-06T15:04:07.138615",
          "exception": false,
          "start_time": "2022-05-06T15:04:07.058432",
          "status": "completed"
        },
        "tags": [],
        "id": "c_fCpHN5YfgM"
      },
      "source": [
        "Soru 2\n",
        "\n",
        "Bütün sütunları gösterebilmek için include = \"all\" kullandım yoksa sadece sayısal değerlere sahip sütünları gösterecekti. "
      ],
      "id": "c_fCpHN5YfgM"
    },
    {
      "cell_type": "code",
      "execution_count": null,
      "metadata": {
        "execution": {
          "iopub.execute_input": "2022-05-06T15:04:07.304747Z",
          "iopub.status.busy": "2022-05-06T15:04:07.304408Z",
          "iopub.status.idle": "2022-05-06T15:04:07.440336Z",
          "shell.execute_reply": "2022-05-06T15:04:07.439197Z"
        },
        "papermill": {
          "duration": 0.223106,
          "end_time": "2022-05-06T15:04:07.442424",
          "exception": false,
          "start_time": "2022-05-06T15:04:07.219318",
          "status": "completed"
        },
        "tags": [],
        "id": "5AWQEQV9YfgM",
        "outputId": "07b8dbbc-7ff5-4232-bcca-7a067c5a750a"
      },
      "outputs": [
        {
          "data": {
            "text/html": [
              "<div>\n",
              "<style scoped>\n",
              "    .dataframe tbody tr th:only-of-type {\n",
              "        vertical-align: middle;\n",
              "    }\n",
              "\n",
              "    .dataframe tbody tr th {\n",
              "        vertical-align: top;\n",
              "    }\n",
              "\n",
              "    .dataframe thead th {\n",
              "        text-align: right;\n",
              "    }\n",
              "</style>\n",
              "<table border=\"1\" class=\"dataframe\">\n",
              "  <thead>\n",
              "    <tr style=\"text-align: right;\">\n",
              "      <th></th>\n",
              "      <th>Unnamed: 0</th>\n",
              "      <th>self previous shot</th>\n",
              "      <th>player position</th>\n",
              "      <th>home game</th>\n",
              "      <th>location x</th>\n",
              "      <th>opponent previous shot</th>\n",
              "      <th>home team</th>\n",
              "      <th>shot type</th>\n",
              "      <th>points</th>\n",
              "      <th>away team</th>\n",
              "      <th>...</th>\n",
              "      <th>time</th>\n",
              "      <th>date</th>\n",
              "      <th>shoot player</th>\n",
              "      <th>time from last shot</th>\n",
              "      <th>quarter</th>\n",
              "      <th>current shot outcome</th>\n",
              "      <th>My_Team</th>\n",
              "      <th>HomeAway</th>\n",
              "      <th>points_gained</th>\n",
              "      <th>difference</th>\n",
              "    </tr>\n",
              "  </thead>\n",
              "  <tbody>\n",
              "    <tr>\n",
              "      <th>count</th>\n",
              "      <td>13551.000000</td>\n",
              "      <td>13395</td>\n",
              "      <td>13551</td>\n",
              "      <td>13551</td>\n",
              "      <td>13541.000000</td>\n",
              "      <td>13452</td>\n",
              "      <td>13551</td>\n",
              "      <td>13551</td>\n",
              "      <td>13551.000000</td>\n",
              "      <td>13551</td>\n",
              "      <td>...</td>\n",
              "      <td>13551</td>\n",
              "      <td>13551</td>\n",
              "      <td>13551</td>\n",
              "      <td>12911.000000</td>\n",
              "      <td>13551.000000</td>\n",
              "      <td>13551</td>\n",
              "      <td>13551</td>\n",
              "      <td>13551</td>\n",
              "      <td>13551.000000</td>\n",
              "      <td>13551.000000</td>\n",
              "    </tr>\n",
              "    <tr>\n",
              "      <th>unique</th>\n",
              "      <td>NaN</td>\n",
              "      <td>3</td>\n",
              "      <td>7</td>\n",
              "      <td>2</td>\n",
              "      <td>NaN</td>\n",
              "      <td>3</td>\n",
              "      <td>29</td>\n",
              "      <td>52</td>\n",
              "      <td>NaN</td>\n",
              "      <td>29</td>\n",
              "      <td>...</td>\n",
              "      <td>717</td>\n",
              "      <td>78</td>\n",
              "      <td>379</td>\n",
              "      <td>NaN</td>\n",
              "      <td>NaN</td>\n",
              "      <td>3</td>\n",
              "      <td>2</td>\n",
              "      <td>56</td>\n",
              "      <td>NaN</td>\n",
              "      <td>NaN</td>\n",
              "    </tr>\n",
              "    <tr>\n",
              "      <th>top</th>\n",
              "      <td>NaN</td>\n",
              "      <td>MISSED</td>\n",
              "      <td>SF</td>\n",
              "      <td>Yes</td>\n",
              "      <td>NaN</td>\n",
              "      <td>SCORED</td>\n",
              "      <td>CLE</td>\n",
              "      <td>Jump Shot</td>\n",
              "      <td>NaN</td>\n",
              "      <td>CLE</td>\n",
              "      <td>...</td>\n",
              "      <td>12:00</td>\n",
              "      <td>2017-04-02</td>\n",
              "      <td>Kyrie Irving</td>\n",
              "      <td>NaN</td>\n",
              "      <td>NaN</td>\n",
              "      <td>MISSED</td>\n",
              "      <td>OPP</td>\n",
              "      <td>ATL_CLE</td>\n",
              "      <td>NaN</td>\n",
              "      <td>NaN</td>\n",
              "    </tr>\n",
              "    <tr>\n",
              "      <th>freq</th>\n",
              "      <td>NaN</td>\n",
              "      <td>6514</td>\n",
              "      <td>3096</td>\n",
              "      <td>6788</td>\n",
              "      <td>NaN</td>\n",
              "      <td>7080</td>\n",
              "      <td>6803</td>\n",
              "      <td>6656</td>\n",
              "      <td>NaN</td>\n",
              "      <td>6748</td>\n",
              "      <td>...</td>\n",
              "      <td>161</td>\n",
              "      <td>200</td>\n",
              "      <td>1349</td>\n",
              "      <td>NaN</td>\n",
              "      <td>NaN</td>\n",
              "      <td>6587</td>\n",
              "      <td>6911</td>\n",
              "      <td>369</td>\n",
              "      <td>NaN</td>\n",
              "      <td>NaN</td>\n",
              "    </tr>\n",
              "    <tr>\n",
              "      <th>mean</th>\n",
              "      <td>6775.000000</td>\n",
              "      <td>NaN</td>\n",
              "      <td>NaN</td>\n",
              "      <td>NaN</td>\n",
              "      <td>466.775275</td>\n",
              "      <td>NaN</td>\n",
              "      <td>NaN</td>\n",
              "      <td>NaN</td>\n",
              "      <td>2.362851</td>\n",
              "      <td>NaN</td>\n",
              "      <td>...</td>\n",
              "      <td>NaN</td>\n",
              "      <td>NaN</td>\n",
              "      <td>NaN</td>\n",
              "      <td>32.890636</td>\n",
              "      <td>2.478489</td>\n",
              "      <td>NaN</td>\n",
              "      <td>NaN</td>\n",
              "      <td>NaN</td>\n",
              "      <td>1.065604</td>\n",
              "      <td>1.471847</td>\n",
              "    </tr>\n",
              "    <tr>\n",
              "      <th>std</th>\n",
              "      <td>3911.981084</td>\n",
              "      <td>NaN</td>\n",
              "      <td>NaN</td>\n",
              "      <td>NaN</td>\n",
              "      <td>348.506178</td>\n",
              "      <td>NaN</td>\n",
              "      <td>NaN</td>\n",
              "      <td>NaN</td>\n",
              "      <td>0.480840</td>\n",
              "      <td>NaN</td>\n",
              "      <td>...</td>\n",
              "      <td>NaN</td>\n",
              "      <td>NaN</td>\n",
              "      <td>NaN</td>\n",
              "      <td>19.269357</td>\n",
              "      <td>1.148060</td>\n",
              "      <td>NaN</td>\n",
              "      <td>NaN</td>\n",
              "      <td>NaN</td>\n",
              "      <td>1.183611</td>\n",
              "      <td>11.403835</td>\n",
              "    </tr>\n",
              "    <tr>\n",
              "      <th>min</th>\n",
              "      <td>0.000000</td>\n",
              "      <td>NaN</td>\n",
              "      <td>NaN</td>\n",
              "      <td>NaN</td>\n",
              "      <td>5.000000</td>\n",
              "      <td>NaN</td>\n",
              "      <td>NaN</td>\n",
              "      <td>NaN</td>\n",
              "      <td>2.000000</td>\n",
              "      <td>NaN</td>\n",
              "      <td>...</td>\n",
              "      <td>NaN</td>\n",
              "      <td>NaN</td>\n",
              "      <td>NaN</td>\n",
              "      <td>0.000000</td>\n",
              "      <td>1.000000</td>\n",
              "      <td>NaN</td>\n",
              "      <td>NaN</td>\n",
              "      <td>NaN</td>\n",
              "      <td>0.000000</td>\n",
              "      <td>-45.000000</td>\n",
              "    </tr>\n",
              "    <tr>\n",
              "      <th>25%</th>\n",
              "      <td>3387.500000</td>\n",
              "      <td>NaN</td>\n",
              "      <td>NaN</td>\n",
              "      <td>NaN</td>\n",
              "      <td>92.000000</td>\n",
              "      <td>NaN</td>\n",
              "      <td>NaN</td>\n",
              "      <td>NaN</td>\n",
              "      <td>2.000000</td>\n",
              "      <td>NaN</td>\n",
              "      <td>...</td>\n",
              "      <td>NaN</td>\n",
              "      <td>NaN</td>\n",
              "      <td>NaN</td>\n",
              "      <td>22.000000</td>\n",
              "      <td>1.000000</td>\n",
              "      <td>NaN</td>\n",
              "      <td>NaN</td>\n",
              "      <td>NaN</td>\n",
              "      <td>0.000000</td>\n",
              "      <td>-5.000000</td>\n",
              "    </tr>\n",
              "    <tr>\n",
              "      <th>50%</th>\n",
              "      <td>6775.000000</td>\n",
              "      <td>NaN</td>\n",
              "      <td>NaN</td>\n",
              "      <td>NaN</td>\n",
              "      <td>313.000000</td>\n",
              "      <td>NaN</td>\n",
              "      <td>NaN</td>\n",
              "      <td>NaN</td>\n",
              "      <td>2.000000</td>\n",
              "      <td>NaN</td>\n",
              "      <td>...</td>\n",
              "      <td>NaN</td>\n",
              "      <td>NaN</td>\n",
              "      <td>NaN</td>\n",
              "      <td>31.000000</td>\n",
              "      <td>2.000000</td>\n",
              "      <td>NaN</td>\n",
              "      <td>NaN</td>\n",
              "      <td>NaN</td>\n",
              "      <td>0.000000</td>\n",
              "      <td>1.000000</td>\n",
              "    </tr>\n",
              "    <tr>\n",
              "      <th>75%</th>\n",
              "      <td>10162.500000</td>\n",
              "      <td>NaN</td>\n",
              "      <td>NaN</td>\n",
              "      <td>NaN</td>\n",
              "      <td>848.000000</td>\n",
              "      <td>NaN</td>\n",
              "      <td>NaN</td>\n",
              "      <td>NaN</td>\n",
              "      <td>3.000000</td>\n",
              "      <td>NaN</td>\n",
              "      <td>...</td>\n",
              "      <td>NaN</td>\n",
              "      <td>NaN</td>\n",
              "      <td>NaN</td>\n",
              "      <td>40.000000</td>\n",
              "      <td>3.000000</td>\n",
              "      <td>NaN</td>\n",
              "      <td>NaN</td>\n",
              "      <td>NaN</td>\n",
              "      <td>2.000000</td>\n",
              "      <td>8.000000</td>\n",
              "    </tr>\n",
              "    <tr>\n",
              "      <th>max</th>\n",
              "      <td>13550.000000</td>\n",
              "      <td>NaN</td>\n",
              "      <td>NaN</td>\n",
              "      <td>NaN</td>\n",
              "      <td>933.000000</td>\n",
              "      <td>NaN</td>\n",
              "      <td>NaN</td>\n",
              "      <td>NaN</td>\n",
              "      <td>3.000000</td>\n",
              "      <td>NaN</td>\n",
              "      <td>...</td>\n",
              "      <td>NaN</td>\n",
              "      <td>NaN</td>\n",
              "      <td>NaN</td>\n",
              "      <td>196.000000</td>\n",
              "      <td>6.000000</td>\n",
              "      <td>NaN</td>\n",
              "      <td>NaN</td>\n",
              "      <td>NaN</td>\n",
              "      <td>3.000000</td>\n",
              "      <td>34.000000</td>\n",
              "    </tr>\n",
              "  </tbody>\n",
              "</table>\n",
              "<p>11 rows × 21 columns</p>\n",
              "</div>"
            ],
            "text/plain": [
              "          Unnamed: 0 self previous shot player position home game  \\\n",
              "count   13551.000000              13395           13551     13551   \n",
              "unique           NaN                  3               7         2   \n",
              "top              NaN             MISSED              SF       Yes   \n",
              "freq             NaN               6514            3096      6788   \n",
              "mean     6775.000000                NaN             NaN       NaN   \n",
              "std      3911.981084                NaN             NaN       NaN   \n",
              "min         0.000000                NaN             NaN       NaN   \n",
              "25%      3387.500000                NaN             NaN       NaN   \n",
              "50%      6775.000000                NaN             NaN       NaN   \n",
              "75%     10162.500000                NaN             NaN       NaN   \n",
              "max     13550.000000                NaN             NaN       NaN   \n",
              "\n",
              "          location x opponent previous shot home team  shot type  \\\n",
              "count   13541.000000                  13452     13551      13551   \n",
              "unique           NaN                      3        29         52   \n",
              "top              NaN                 SCORED       CLE  Jump Shot   \n",
              "freq             NaN                   7080      6803       6656   \n",
              "mean      466.775275                    NaN       NaN        NaN   \n",
              "std       348.506178                    NaN       NaN        NaN   \n",
              "min         5.000000                    NaN       NaN        NaN   \n",
              "25%        92.000000                    NaN       NaN        NaN   \n",
              "50%       313.000000                    NaN       NaN        NaN   \n",
              "75%       848.000000                    NaN       NaN        NaN   \n",
              "max       933.000000                    NaN       NaN        NaN   \n",
              "\n",
              "              points away team  ...   time        date  shoot player  \\\n",
              "count   13551.000000     13551  ...  13551       13551         13551   \n",
              "unique           NaN        29  ...    717          78           379   \n",
              "top              NaN       CLE  ...  12:00  2017-04-02  Kyrie Irving   \n",
              "freq             NaN      6748  ...    161         200          1349   \n",
              "mean        2.362851       NaN  ...    NaN         NaN           NaN   \n",
              "std         0.480840       NaN  ...    NaN         NaN           NaN   \n",
              "min         2.000000       NaN  ...    NaN         NaN           NaN   \n",
              "25%         2.000000       NaN  ...    NaN         NaN           NaN   \n",
              "50%         2.000000       NaN  ...    NaN         NaN           NaN   \n",
              "75%         3.000000       NaN  ...    NaN         NaN           NaN   \n",
              "max         3.000000       NaN  ...    NaN         NaN           NaN   \n",
              "\n",
              "       time from last shot       quarter  current shot outcome My_Team  \\\n",
              "count         12911.000000  13551.000000                 13551   13551   \n",
              "unique                 NaN           NaN                     3       2   \n",
              "top                    NaN           NaN                MISSED     OPP   \n",
              "freq                   NaN           NaN                  6587    6911   \n",
              "mean             32.890636      2.478489                   NaN     NaN   \n",
              "std              19.269357      1.148060                   NaN     NaN   \n",
              "min               0.000000      1.000000                   NaN     NaN   \n",
              "25%              22.000000      1.000000                   NaN     NaN   \n",
              "50%              31.000000      2.000000                   NaN     NaN   \n",
              "75%              40.000000      3.000000                   NaN     NaN   \n",
              "max             196.000000      6.000000                   NaN     NaN   \n",
              "\n",
              "       HomeAway points_gained    difference  \n",
              "count     13551  13551.000000  13551.000000  \n",
              "unique       56           NaN           NaN  \n",
              "top     ATL_CLE           NaN           NaN  \n",
              "freq        369           NaN           NaN  \n",
              "mean        NaN      1.065604      1.471847  \n",
              "std         NaN      1.183611     11.403835  \n",
              "min         NaN      0.000000    -45.000000  \n",
              "25%         NaN      0.000000     -5.000000  \n",
              "50%         NaN      0.000000      1.000000  \n",
              "75%         NaN      2.000000      8.000000  \n",
              "max         NaN      3.000000     34.000000  \n",
              "\n",
              "[11 rows x 21 columns]"
            ]
          },
          "execution_count": 4,
          "metadata": {},
          "output_type": "execute_result"
        }
      ],
      "source": [
        "df.describe(include = \"all\")"
      ],
      "id": "5AWQEQV9YfgM"
    },
    {
      "cell_type": "code",
      "execution_count": null,
      "metadata": {
        "execution": {
          "iopub.execute_input": "2022-05-06T15:04:07.612843Z",
          "iopub.status.busy": "2022-05-06T15:04:07.612061Z",
          "iopub.status.idle": "2022-05-06T15:04:07.618786Z",
          "shell.execute_reply": "2022-05-06T15:04:07.617343Z"
        },
        "papermill": {
          "duration": 0.095529,
          "end_time": "2022-05-06T15:04:07.621992",
          "exception": false,
          "start_time": "2022-05-06T15:04:07.526463",
          "status": "completed"
        },
        "tags": [],
        "id": "g_vEAl4-YfgN",
        "outputId": "c793dfb2-5f6c-40c7-d2b4-38a005021cc2"
      },
      "outputs": [
        {
          "data": {
            "text/plain": [
              "Index(['Unnamed: 0', 'self previous shot', 'player position', 'home game',\n",
              "       'location x', 'opponent previous shot', 'home team', 'shot type',\n",
              "       'points', 'away team', 'location y', 'time', 'date', 'shoot player',\n",
              "       'time from last shot', 'quarter', 'current shot outcome', 'My_Team',\n",
              "       'HomeAway', 'points_gained', 'difference'],\n",
              "      dtype='object')"
            ]
          },
          "execution_count": 5,
          "metadata": {},
          "output_type": "execute_result"
        }
      ],
      "source": [
        "df.columns"
      ],
      "id": "g_vEAl4-YfgN"
    },
    {
      "cell_type": "markdown",
      "metadata": {
        "papermill": {
          "duration": 0.077872,
          "end_time": "2022-05-06T15:04:07.782606",
          "exception": false,
          "start_time": "2022-05-06T15:04:07.704734",
          "status": "completed"
        },
        "tags": [],
        "id": "MJZoA5w-YfgN"
      },
      "source": [
        "Soru 3\n",
        "\n",
        "self previous shot, oppenent previus shot ve time from last shot ilk satırlarda NaN çünkü maç yeni başladı.\n"
      ],
      "id": "MJZoA5w-YfgN"
    },
    {
      "cell_type": "code",
      "execution_count": null,
      "metadata": {
        "execution": {
          "iopub.execute_input": "2022-05-06T15:04:07.948686Z",
          "iopub.status.busy": "2022-05-06T15:04:07.948368Z",
          "iopub.status.idle": "2022-05-06T15:04:07.981248Z",
          "shell.execute_reply": "2022-05-06T15:04:07.980230Z"
        },
        "papermill": {
          "duration": 0.121259,
          "end_time": "2022-05-06T15:04:07.983834",
          "exception": false,
          "start_time": "2022-05-06T15:04:07.862575",
          "status": "completed"
        },
        "tags": [],
        "id": "dwMt-Q6nYfgN",
        "outputId": "d056c7cb-3ee0-48a1-b6eb-052fba9646df"
      },
      "outputs": [
        {
          "data": {
            "text/html": [
              "<div>\n",
              "<style scoped>\n",
              "    .dataframe tbody tr th:only-of-type {\n",
              "        vertical-align: middle;\n",
              "    }\n",
              "\n",
              "    .dataframe tbody tr th {\n",
              "        vertical-align: top;\n",
              "    }\n",
              "\n",
              "    .dataframe thead th {\n",
              "        text-align: right;\n",
              "    }\n",
              "</style>\n",
              "<table border=\"1\" class=\"dataframe\">\n",
              "  <thead>\n",
              "    <tr style=\"text-align: right;\">\n",
              "      <th></th>\n",
              "      <th>Unnamed: 0</th>\n",
              "      <th>self previous shot</th>\n",
              "      <th>player position</th>\n",
              "      <th>home game</th>\n",
              "      <th>location x</th>\n",
              "      <th>opponent previous shot</th>\n",
              "      <th>home team</th>\n",
              "      <th>shot type</th>\n",
              "      <th>points</th>\n",
              "      <th>away team</th>\n",
              "      <th>...</th>\n",
              "      <th>time</th>\n",
              "      <th>date</th>\n",
              "      <th>shoot player</th>\n",
              "      <th>time from last shot</th>\n",
              "      <th>quarter</th>\n",
              "      <th>current shot outcome</th>\n",
              "      <th>My_Team</th>\n",
              "      <th>HomeAway</th>\n",
              "      <th>points_gained</th>\n",
              "      <th>difference</th>\n",
              "    </tr>\n",
              "  </thead>\n",
              "  <tbody>\n",
              "    <tr>\n",
              "      <th>0</th>\n",
              "      <td>0</td>\n",
              "      <td>NaN</td>\n",
              "      <td>PG</td>\n",
              "      <td>No</td>\n",
              "      <td>881.0</td>\n",
              "      <td>NaN</td>\n",
              "      <td>CLE</td>\n",
              "      <td>Driving Layup</td>\n",
              "      <td>2</td>\n",
              "      <td>NYK</td>\n",
              "      <td>...</td>\n",
              "      <td>0:20</td>\n",
              "      <td>2016-10-25</td>\n",
              "      <td>Derrick Rose</td>\n",
              "      <td>NaN</td>\n",
              "      <td>1</td>\n",
              "      <td>SCORED</td>\n",
              "      <td>OPP</td>\n",
              "      <td>CLE_NYK</td>\n",
              "      <td>2.0</td>\n",
              "      <td>0.0</td>\n",
              "    </tr>\n",
              "    <tr>\n",
              "      <th>1</th>\n",
              "      <td>1</td>\n",
              "      <td>NaN</td>\n",
              "      <td>PF</td>\n",
              "      <td>Yes</td>\n",
              "      <td>87.0</td>\n",
              "      <td>SCORED</td>\n",
              "      <td>CLE</td>\n",
              "      <td>Hook Shot</td>\n",
              "      <td>2</td>\n",
              "      <td>NYK</td>\n",
              "      <td>...</td>\n",
              "      <td>0:34</td>\n",
              "      <td>2016-10-25</td>\n",
              "      <td>Kevin Love</td>\n",
              "      <td>NaN</td>\n",
              "      <td>1</td>\n",
              "      <td>MISSED</td>\n",
              "      <td>CLE</td>\n",
              "      <td>CLE_NYK</td>\n",
              "      <td>0.0</td>\n",
              "      <td>-2.0</td>\n",
              "    </tr>\n",
              "    <tr>\n",
              "      <th>2</th>\n",
              "      <td>2</td>\n",
              "      <td>SCORED</td>\n",
              "      <td>SF</td>\n",
              "      <td>No</td>\n",
              "      <td>760.0</td>\n",
              "      <td>MISSED</td>\n",
              "      <td>CLE</td>\n",
              "      <td>Jump Shot</td>\n",
              "      <td>2</td>\n",
              "      <td>NYK</td>\n",
              "      <td>...</td>\n",
              "      <td>0:44</td>\n",
              "      <td>2016-10-25</td>\n",
              "      <td>Carmelo Anthony</td>\n",
              "      <td>24.0</td>\n",
              "      <td>1</td>\n",
              "      <td>MISSED</td>\n",
              "      <td>OPP</td>\n",
              "      <td>CLE_NYK</td>\n",
              "      <td>0.0</td>\n",
              "      <td>-2.0</td>\n",
              "    </tr>\n",
              "    <tr>\n",
              "      <th>3</th>\n",
              "      <td>3</td>\n",
              "      <td>MISSED</td>\n",
              "      <td>PF</td>\n",
              "      <td>No</td>\n",
              "      <td>890.0</td>\n",
              "      <td>MISSED</td>\n",
              "      <td>CLE</td>\n",
              "      <td>Tip Layup Shot</td>\n",
              "      <td>2</td>\n",
              "      <td>NYK</td>\n",
              "      <td>...</td>\n",
              "      <td>0:45</td>\n",
              "      <td>2016-10-25</td>\n",
              "      <td>Kristaps Porzingis</td>\n",
              "      <td>1.0</td>\n",
              "      <td>1</td>\n",
              "      <td>SCORED</td>\n",
              "      <td>OPP</td>\n",
              "      <td>CLE_NYK</td>\n",
              "      <td>2.0</td>\n",
              "      <td>-2.0</td>\n",
              "    </tr>\n",
              "    <tr>\n",
              "      <th>4</th>\n",
              "      <td>4</td>\n",
              "      <td>SCORED</td>\n",
              "      <td>SF</td>\n",
              "      <td>Yes</td>\n",
              "      <td>52.0</td>\n",
              "      <td>MISSED</td>\n",
              "      <td>CLE</td>\n",
              "      <td>Running Dunk</td>\n",
              "      <td>2</td>\n",
              "      <td>NYK</td>\n",
              "      <td>...</td>\n",
              "      <td>10:05</td>\n",
              "      <td>2016-10-25</td>\n",
              "      <td>Richard Jefferson</td>\n",
              "      <td>21.0</td>\n",
              "      <td>1</td>\n",
              "      <td>SCORED</td>\n",
              "      <td>CLE</td>\n",
              "      <td>CLE_NYK</td>\n",
              "      <td>2.0</td>\n",
              "      <td>-4.0</td>\n",
              "    </tr>\n",
              "  </tbody>\n",
              "</table>\n",
              "<p>5 rows × 21 columns</p>\n",
              "</div>"
            ],
            "text/plain": [
              "   Unnamed: 0 self previous shot player position home game  location x  \\\n",
              "0           0                NaN              PG        No       881.0   \n",
              "1           1                NaN              PF       Yes        87.0   \n",
              "2           2             SCORED              SF        No       760.0   \n",
              "3           3             MISSED              PF        No       890.0   \n",
              "4           4             SCORED              SF       Yes        52.0   \n",
              "\n",
              "  opponent previous shot home team       shot type  points away team  ...  \\\n",
              "0                    NaN       CLE   Driving Layup       2       NYK  ...   \n",
              "1                 SCORED       CLE       Hook Shot       2       NYK  ...   \n",
              "2                 MISSED       CLE       Jump Shot       2       NYK  ...   \n",
              "3                 MISSED       CLE  Tip Layup Shot       2       NYK  ...   \n",
              "4                 MISSED       CLE    Running Dunk       2       NYK  ...   \n",
              "\n",
              "    time        date        shoot player time from last shot  quarter  \\\n",
              "0   0:20  2016-10-25        Derrick Rose                 NaN        1   \n",
              "1   0:34  2016-10-25          Kevin Love                 NaN        1   \n",
              "2   0:44  2016-10-25     Carmelo Anthony                24.0        1   \n",
              "3   0:45  2016-10-25  Kristaps Porzingis                 1.0        1   \n",
              "4  10:05  2016-10-25   Richard Jefferson                21.0        1   \n",
              "\n",
              "   current shot outcome My_Team HomeAway points_gained  difference  \n",
              "0                SCORED     OPP  CLE_NYK           2.0         0.0  \n",
              "1                MISSED     CLE  CLE_NYK           0.0        -2.0  \n",
              "2                MISSED     OPP  CLE_NYK           0.0        -2.0  \n",
              "3                SCORED     OPP  CLE_NYK           2.0        -2.0  \n",
              "4                SCORED     CLE  CLE_NYK           2.0        -4.0  \n",
              "\n",
              "[5 rows x 21 columns]"
            ]
          },
          "execution_count": 6,
          "metadata": {},
          "output_type": "execute_result"
        }
      ],
      "source": [
        "df.head()"
      ],
      "id": "dwMt-Q6nYfgN"
    },
    {
      "cell_type": "markdown",
      "metadata": {
        "papermill": {
          "duration": 0.080666,
          "end_time": "2022-05-06T15:04:08.146201",
          "exception": false,
          "start_time": "2022-05-06T15:04:08.065535",
          "status": "completed"
        },
        "tags": [],
        "id": "Iy8GrC0RYfgN"
      },
      "source": [
        "Soru 4"
      ],
      "id": "Iy8GrC0RYfgN"
    },
    {
      "cell_type": "code",
      "execution_count": null,
      "metadata": {
        "execution": {
          "iopub.execute_input": "2022-05-06T15:04:08.314176Z",
          "iopub.status.busy": "2022-05-06T15:04:08.313692Z",
          "iopub.status.idle": "2022-05-06T15:04:08.319871Z",
          "shell.execute_reply": "2022-05-06T15:04:08.318082Z"
        },
        "papermill": {
          "duration": 0.094207,
          "end_time": "2022-05-06T15:04:08.323051",
          "exception": false,
          "start_time": "2022-05-06T15:04:08.228844",
          "status": "completed"
        },
        "tags": [],
        "id": "ghvaPVNxYfgO",
        "outputId": "6f0c7964-789d-438e-a94a-2b6fc9f77b69"
      },
      "outputs": [
        {
          "name": "stdout",
          "output_type": "stream",
          "text": [
            "13551 satır ve 21 sütun vardır\n"
          ]
        }
      ],
      "source": [
        "print(\"{0} satır ve {1} sütun vardır\".format(df.shape[0],df.shape[1]))\n"
      ],
      "id": "ghvaPVNxYfgO"
    },
    {
      "cell_type": "markdown",
      "metadata": {
        "papermill": {
          "duration": 0.081946,
          "end_time": "2022-05-06T15:04:08.485573",
          "exception": false,
          "start_time": "2022-05-06T15:04:08.403627",
          "status": "completed"
        },
        "tags": [],
        "id": "5pbZDOUNYfgO"
      },
      "source": [
        "Soru 5"
      ],
      "id": "5pbZDOUNYfgO"
    },
    {
      "cell_type": "code",
      "execution_count": null,
      "metadata": {
        "execution": {
          "iopub.execute_input": "2022-05-06T15:04:08.646692Z",
          "iopub.status.busy": "2022-05-06T15:04:08.646461Z",
          "iopub.status.idle": "2022-05-06T15:04:08.654187Z",
          "shell.execute_reply": "2022-05-06T15:04:08.652969Z"
        },
        "papermill": {
          "duration": 0.08948,
          "end_time": "2022-05-06T15:04:08.656812",
          "exception": false,
          "start_time": "2022-05-06T15:04:08.567332",
          "status": "completed"
        },
        "tags": [],
        "id": "LCq2JP7iYfgO",
        "outputId": "ca2c6410-4133-4997-8a86-2754c2244032"
      },
      "outputs": [
        {
          "data": {
            "text/plain": [
              "Unnamed: 0                  int64\n",
              "self previous shot         object\n",
              "player position            object\n",
              "home game                  object\n",
              "location x                float64\n",
              "opponent previous shot     object\n",
              "home team                  object\n",
              "shot type                  object\n",
              "points                      int64\n",
              "away team                  object\n",
              "location y                float64\n",
              "time                       object\n",
              "date                       object\n",
              "shoot player               object\n",
              "time from last shot       float64\n",
              "quarter                     int64\n",
              "current shot outcome       object\n",
              "My_Team                    object\n",
              "HomeAway                   object\n",
              "points_gained             float64\n",
              "difference                float64\n",
              "dtype: object"
            ]
          },
          "execution_count": 8,
          "metadata": {},
          "output_type": "execute_result"
        }
      ],
      "source": [
        "df.dtypes"
      ],
      "id": "LCq2JP7iYfgO"
    },
    {
      "cell_type": "markdown",
      "metadata": {
        "papermill": {
          "duration": 0.078455,
          "end_time": "2022-05-06T15:04:08.814669",
          "exception": false,
          "start_time": "2022-05-06T15:04:08.736214",
          "status": "completed"
        },
        "tags": [],
        "id": "1EiNgtOHYfgO"
      },
      "source": [
        "Soru 6"
      ],
      "id": "1EiNgtOHYfgO"
    },
    {
      "cell_type": "code",
      "execution_count": null,
      "metadata": {
        "execution": {
          "iopub.execute_input": "2022-05-06T15:04:08.978741Z",
          "iopub.status.busy": "2022-05-06T15:04:08.978297Z",
          "iopub.status.idle": "2022-05-06T15:04:09.114671Z",
          "shell.execute_reply": "2022-05-06T15:04:09.113162Z"
        },
        "papermill": {
          "duration": 0.222335,
          "end_time": "2022-05-06T15:04:09.117737",
          "exception": false,
          "start_time": "2022-05-06T15:04:08.895402",
          "status": "completed"
        },
        "tags": [],
        "id": "lQFkSX_fYfgO",
        "outputId": "04d82524-11c2-4283-b720-d54d38e4d1d2"
      },
      "outputs": [
        {
          "name": "stdout",
          "output_type": "stream",
          "text": [
            "Kevin Love : 0.4258600237247924\n",
            "Richard Jefferson : 0.4485981308411215\n",
            "LeBron James : 0.5470679012345679\n",
            "Kyrie Irving : 0.46849518161601184\n",
            "J.R. Smith : 0.34328358208955223\n",
            "Tristan Thompson : 0.6081730769230769\n",
            "Iman Shumpert : 0.40397350993377484\n",
            "Channing Frye : 0.454\n",
            "Mike Dunleavy : 0.3855421686746988\n",
            "Jordan McRae : 0.3900709219858156\n",
            "Chris Andersen : 0.5294117647058824\n",
            "DeAndre Liggins : 0.3923076923076923\n",
            "James Jones : 0.4842105263157895\n",
            "Kay Felder : 0.4\n",
            "Kyle Korver : 0.48698884758364314\n",
            "Derrick Williams : 0.5157894736842106\n",
            "Deron Williams : 0.4357142857142857\n",
            "Larry Sanders : 0.3333333333333333\n",
            "Walter Tavares : 0.75\n",
            "\n",
            "Walter Tavares, 0.75 ile en yüksek yüzdeyle şut atan oyuncudur.\n"
          ]
        }
      ],
      "source": [
        "CLE_df = df[df.My_Team == \"CLE\"]\n",
        "CLE_players = CLE_df[\"shoot player\"].unique()\n",
        "best_percent = 0\n",
        "best_player = \"\"\n",
        "\n",
        "for player in CLE_players:\n",
        "    Scored_Shot = sum((CLE_df[\"shoot player\"] == player) & (CLE_df[\"current shot outcome\"] ==  'SCORED'))\n",
        "    Total_Shot = sum(CLE_df[\"shoot player\"] == player)\n",
        "    CLE_players_percents = Scored_Shot/Total_Shot\n",
        "    print(player, \":\", CLE_players_percents)\n",
        "    if(CLE_players_percents > best_percent):\n",
        "        best_percent = CLE_players_percents\n",
        "        best_player = player\n",
        "    \n",
        "print(\"\\n{0}, {1} ile en yüksek yüzdeyle şut atan oyuncudur.\".format(best_player,best_percent))"
      ],
      "id": "lQFkSX_fYfgO"
    },
    {
      "cell_type": "markdown",
      "metadata": {
        "papermill": {
          "duration": 0.088025,
          "end_time": "2022-05-06T15:04:09.288532",
          "exception": false,
          "start_time": "2022-05-06T15:04:09.200507",
          "status": "completed"
        },
        "tags": [],
        "id": "xKVz72ODYfgP"
      },
      "source": [
        "Soru 7"
      ],
      "id": "xKVz72ODYfgP"
    },
    {
      "cell_type": "code",
      "execution_count": null,
      "metadata": {
        "execution": {
          "iopub.execute_input": "2022-05-06T15:04:09.460690Z",
          "iopub.status.busy": "2022-05-06T15:04:09.460399Z",
          "iopub.status.idle": "2022-05-06T15:04:09.508047Z",
          "shell.execute_reply": "2022-05-06T15:04:09.506554Z"
        },
        "papermill": {
          "duration": 0.136825,
          "end_time": "2022-05-06T15:04:09.510952",
          "exception": false,
          "start_time": "2022-05-06T15:04:09.374127",
          "status": "completed"
        },
        "tags": [],
        "id": "4yxBZkbeYfgP",
        "outputId": "8f7cbd9c-3df7-4072-f52b-12b173c2f0dc"
      },
      "outputs": [
        {
          "name": "stdout",
          "output_type": "stream",
          "text": [
            "Kevin Love :  843\n",
            "Richard Jefferson :  321\n",
            "LeBron James :  1296\n",
            "Kyrie Irving :  1349\n",
            "J.R. Smith :  335\n",
            "Tristan Thompson :  416\n",
            "Iman Shumpert :  453\n",
            "Channing Frye :  500\n",
            "Mike Dunleavy :  83\n",
            "Jordan McRae :  141\n",
            "Chris Andersen :  17\n",
            "DeAndre Liggins :  130\n",
            "James Jones :  95\n",
            "Kay Felder :  150\n",
            "Kyle Korver :  269\n",
            "Derrick Williams :  95\n",
            "Deron Williams :  140\n",
            "Larry Sanders :  3\n",
            "Walter Tavares :  4\n"
          ]
        }
      ],
      "source": [
        "for player in CLE_players:\n",
        "    current_player = CLE_df[CLE_df[\"shoot player\"]== player]\n",
        "    print(player,\": \",current_player.shape[0])"
      ],
      "id": "4yxBZkbeYfgP"
    },
    {
      "cell_type": "markdown",
      "metadata": {
        "papermill": {
          "duration": 0.084178,
          "end_time": "2022-05-06T15:04:09.679711",
          "exception": false,
          "start_time": "2022-05-06T15:04:09.595533",
          "status": "completed"
        },
        "tags": [],
        "id": "uDg90jymYfgP"
      },
      "source": [
        "Soru 8"
      ],
      "id": "uDg90jymYfgP"
    },
    {
      "cell_type": "code",
      "execution_count": null,
      "metadata": {
        "execution": {
          "iopub.execute_input": "2022-05-06T15:04:09.849723Z",
          "iopub.status.busy": "2022-05-06T15:04:09.849326Z",
          "iopub.status.idle": "2022-05-06T15:04:09.855880Z",
          "shell.execute_reply": "2022-05-06T15:04:09.854660Z"
        },
        "papermill": {
          "duration": 0.096188,
          "end_time": "2022-05-06T15:04:09.858724",
          "exception": false,
          "start_time": "2022-05-06T15:04:09.762536",
          "status": "completed"
        },
        "tags": [],
        "id": "WazxB5fbYfgP",
        "outputId": "a682de77-28f2-486a-99ae-85a9d10c3616"
      },
      "outputs": [
        {
          "data": {
            "text/plain": [
              "12407"
            ]
          },
          "execution_count": 11,
          "metadata": {},
          "output_type": "execute_result"
        }
      ],
      "source": [
        "df_Lebron[\"location x\"].idxmax()"
      ],
      "id": "WazxB5fbYfgP"
    },
    {
      "cell_type": "markdown",
      "metadata": {
        "papermill": {
          "duration": 0.084509,
          "end_time": "2022-05-06T15:04:10.028106",
          "exception": false,
          "start_time": "2022-05-06T15:04:09.943597",
          "status": "completed"
        },
        "tags": [],
        "id": "zy2NxNxAYfgQ"
      },
      "source": [
        "Soru 9\n",
        "\n",
        "NBA’de sahanın kısa kenar çizgileri 50 feet, yani 15,24 metre; uzun kenar çizgileri ise 94 feet, yani 28,65 metredir."
      ],
      "id": "zy2NxNxAYfgQ"
    },
    {
      "cell_type": "code",
      "execution_count": null,
      "metadata": {
        "execution": {
          "iopub.execute_input": "2022-05-06T15:04:10.200763Z",
          "iopub.status.busy": "2022-05-06T15:04:10.200321Z",
          "iopub.status.idle": "2022-05-06T15:04:10.208117Z",
          "shell.execute_reply": "2022-05-06T15:04:10.206468Z"
        },
        "papermill": {
          "duration": 0.098885,
          "end_time": "2022-05-06T15:04:10.210985",
          "exception": false,
          "start_time": "2022-05-06T15:04:10.112100",
          "status": "completed"
        },
        "tags": [],
        "id": "mCT_Z779YfgQ",
        "outputId": "ea3ee249-25f0-4488-d6a9-345d68977624"
      },
      "outputs": [
        {
          "data": {
            "text/plain": [
              "500.0"
            ]
          },
          "execution_count": 12,
          "metadata": {},
          "output_type": "execute_result"
        }
      ],
      "source": [
        "df[\"location y\"].max()\n"
      ],
      "id": "mCT_Z779YfgQ"
    },
    {
      "cell_type": "code",
      "execution_count": null,
      "metadata": {
        "execution": {
          "iopub.execute_input": "2022-05-06T15:04:10.386016Z",
          "iopub.status.busy": "2022-05-06T15:04:10.385738Z",
          "iopub.status.idle": "2022-05-06T15:04:10.392170Z",
          "shell.execute_reply": "2022-05-06T15:04:10.391141Z"
        },
        "papermill": {
          "duration": 0.097474,
          "end_time": "2022-05-06T15:04:10.395116",
          "exception": false,
          "start_time": "2022-05-06T15:04:10.297642",
          "status": "completed"
        },
        "tags": [],
        "id": "uj2X3sGAYfgQ",
        "outputId": "b7592a4a-17c4-4ea5-f41a-d98189bf3247"
      },
      "outputs": [
        {
          "data": {
            "text/plain": [
              "0.0"
            ]
          },
          "execution_count": 13,
          "metadata": {},
          "output_type": "execute_result"
        }
      ],
      "source": [
        "df[\"location y\"].min()"
      ],
      "id": "uj2X3sGAYfgQ"
    },
    {
      "cell_type": "markdown",
      "metadata": {
        "papermill": {
          "duration": 0.083031,
          "end_time": "2022-05-06T15:04:10.563331",
          "exception": false,
          "start_time": "2022-05-06T15:04:10.480300",
          "status": "completed"
        },
        "tags": [],
        "id": "ZikZTIk3YfgQ"
      },
      "source": [
        "Yani 1 feet 10 dereceye tekabül ediyor.\n",
        "Bu durumda max x  940, min x 0'dır."
      ],
      "id": "ZikZTIk3YfgQ"
    },
    {
      "cell_type": "code",
      "execution_count": null,
      "metadata": {
        "execution": {
          "iopub.execute_input": "2022-05-06T15:04:10.734927Z",
          "iopub.status.busy": "2022-05-06T15:04:10.734630Z",
          "iopub.status.idle": "2022-05-06T15:04:11.203012Z",
          "shell.execute_reply": "2022-05-06T15:04:11.201295Z"
        },
        "papermill": {
          "duration": 0.557645,
          "end_time": "2022-05-06T15:04:11.206002",
          "exception": false,
          "start_time": "2022-05-06T15:04:10.648357",
          "status": "completed"
        },
        "tags": [],
        "id": "RB0McZo_YfgQ"
      },
      "outputs": [],
      "source": [
        "df[\"location x\"] = df.apply(lambda x: x[\"location x\"] / 10, axis=1) # x lokasyonunu feete çevirme\n",
        "df[\"location y\"] = df.apply(lambda x: x[\"location y\"] / 10, axis=1) # y lokasyonunu feete çevirme\n",
        "df.dropna(subset=[\"location x\", \"location y\"], inplace=True) # NaN lokasyonları düşürme\n",
        "\n"
      ],
      "id": "RB0McZo_YfgQ"
    },
    {
      "cell_type": "markdown",
      "metadata": {
        "papermill": {
          "duration": 0.08879,
          "end_time": "2022-05-06T15:04:11.389335",
          "exception": false,
          "start_time": "2022-05-06T15:04:11.300545",
          "status": "completed"
        },
        "tags": [],
        "id": "28J4auDBYfgR"
      },
      "source": [
        "Veriyi incelediğimde 1 ve 2. çeyrekte ev sahibi için genelde x lokasyonu değeri düşük, kalanlarında yüksek buna göre düşünüp soruyu tamamladım."
      ],
      "id": "28J4auDBYfgR"
    },
    {
      "cell_type": "code",
      "execution_count": null,
      "metadata": {
        "execution": {
          "iopub.execute_input": "2022-05-06T15:04:11.567683Z",
          "iopub.status.busy": "2022-05-06T15:04:11.567170Z",
          "iopub.status.idle": "2022-05-06T15:04:12.568923Z",
          "shell.execute_reply": "2022-05-06T15:04:12.567817Z"
        },
        "papermill": {
          "duration": 1.091783,
          "end_time": "2022-05-06T15:04:12.571268",
          "exception": false,
          "start_time": "2022-05-06T15:04:11.479485",
          "status": "completed"
        },
        "tags": [],
        "id": "ruczGyyrYfgR",
        "outputId": "c7fe0ada-d6b3-4981-c4ce-780c011035f9"
      },
      "outputs": [
        {
          "name": "stdout",
          "output_type": "stream",
          "text": [
            "Yakın           5680\n",
            "Uzak            5250\n",
            "Orta            2521\n",
            "Orta sahadan      90\n",
            "Name: distance_classification, dtype: int64\n"
          ]
        }
      ],
      "source": [
        "from math import sqrt\n",
        "# feet cinsinden potaların lokasyonu\n",
        "home_pot_x = 5.25 #\n",
        "home_pot_y = 25\n",
        "away_pot_x = 88.75\n",
        "away_pot_y = 25\n",
        "# İki nokta arasındaki mesafe\n",
        "def euclidean_distance(x1, y1, x2, y2):\n",
        "    return sqrt(pow(x1-x2, 2) + pow(y1-y2,2))\n",
        "# Mesafe değeri \n",
        "def distance(seri):\n",
        "    x = seri[\"location x\"]\n",
        "    y = seri[\"location y\"]\n",
        "    if seri[\"home game\"] == \"Yes\":\n",
        "        if seri[\"quarter\"] in [1, 2]:\n",
        "            return euclidean_distance(x, y, home_pot_x, home_pot_y)\n",
        "        else:  \n",
        "            return euclidean_distance(x, y, away_pot_x, away_pot_y)\n",
        "    else: \n",
        "        if seri[\"quarter\"] in [1, 2]:\n",
        "            return euclidean_distance(x, y, away_pot_x, away_pot_y)\n",
        "        else:  \n",
        "            return euclidean_distance(x, y, home_pot_x, away_pot_y)\n",
        "\n",
        "# Mesafe sınıflandırma   \n",
        "def distance_classification(seri):\n",
        "    if seri.distance < 10:\n",
        "        return \"Yakın\"\n",
        "    elif seri.distance < 20:\n",
        "        return \"Orta\"\n",
        "    elif seri.distance < 30:\n",
        "        return \"Uzak\"\n",
        "    else:\n",
        "        return \"Orta sahadan\"\n",
        "\n",
        "df[\"distance\"] = df.apply(distance, axis=1)  \n",
        "df[\"distance_classification\"] = df.apply(distance_classification, axis=1)\n",
        "print(df[\"distance_classification\"].value_counts()) "
      ],
      "id": "ruczGyyrYfgR"
    },
    {
      "cell_type": "code",
      "execution_count": null,
      "metadata": {
        "execution": {
          "iopub.execute_input": "2022-05-06T15:04:12.755915Z",
          "iopub.status.busy": "2022-05-06T15:04:12.755374Z",
          "iopub.status.idle": "2022-05-06T15:04:12.803566Z",
          "shell.execute_reply": "2022-05-06T15:04:12.802858Z"
        },
        "papermill": {
          "duration": 0.139414,
          "end_time": "2022-05-06T15:04:12.805781",
          "exception": false,
          "start_time": "2022-05-06T15:04:12.666367",
          "status": "completed"
        },
        "tags": [],
        "id": "zEEpdVrJYfgS",
        "outputId": "a44e2e36-f7c9-4437-b758-e137454cdefa"
      },
      "outputs": [
        {
          "data": {
            "text/html": [
              "<div>\n",
              "<style scoped>\n",
              "    .dataframe tbody tr th:only-of-type {\n",
              "        vertical-align: middle;\n",
              "    }\n",
              "\n",
              "    .dataframe tbody tr th {\n",
              "        vertical-align: top;\n",
              "    }\n",
              "\n",
              "    .dataframe thead th {\n",
              "        text-align: right;\n",
              "    }\n",
              "</style>\n",
              "<table border=\"1\" class=\"dataframe\">\n",
              "  <thead>\n",
              "    <tr style=\"text-align: right;\">\n",
              "      <th></th>\n",
              "      <th>Unnamed: 0</th>\n",
              "      <th>self previous shot</th>\n",
              "      <th>player position</th>\n",
              "      <th>home game</th>\n",
              "      <th>location x</th>\n",
              "      <th>opponent previous shot</th>\n",
              "      <th>home team</th>\n",
              "      <th>shot type</th>\n",
              "      <th>points</th>\n",
              "      <th>away team</th>\n",
              "      <th>...</th>\n",
              "      <th>shoot player</th>\n",
              "      <th>time from last shot</th>\n",
              "      <th>quarter</th>\n",
              "      <th>current shot outcome</th>\n",
              "      <th>My_Team</th>\n",
              "      <th>HomeAway</th>\n",
              "      <th>points_gained</th>\n",
              "      <th>difference</th>\n",
              "      <th>distance</th>\n",
              "      <th>distance_classification</th>\n",
              "    </tr>\n",
              "  </thead>\n",
              "  <tbody>\n",
              "    <tr>\n",
              "      <th>0</th>\n",
              "      <td>0</td>\n",
              "      <td>NaN</td>\n",
              "      <td>PG</td>\n",
              "      <td>No</td>\n",
              "      <td>88.1</td>\n",
              "      <td>NaN</td>\n",
              "      <td>CLE</td>\n",
              "      <td>Driving Layup</td>\n",
              "      <td>2</td>\n",
              "      <td>NYK</td>\n",
              "      <td>...</td>\n",
              "      <td>Derrick Rose</td>\n",
              "      <td>NaN</td>\n",
              "      <td>1</td>\n",
              "      <td>SCORED</td>\n",
              "      <td>OPP</td>\n",
              "      <td>CLE_NYK</td>\n",
              "      <td>2.0</td>\n",
              "      <td>0.0</td>\n",
              "      <td>0.763217</td>\n",
              "      <td>Yakın</td>\n",
              "    </tr>\n",
              "    <tr>\n",
              "      <th>1</th>\n",
              "      <td>1</td>\n",
              "      <td>NaN</td>\n",
              "      <td>PF</td>\n",
              "      <td>Yes</td>\n",
              "      <td>8.7</td>\n",
              "      <td>SCORED</td>\n",
              "      <td>CLE</td>\n",
              "      <td>Hook Shot</td>\n",
              "      <td>2</td>\n",
              "      <td>NYK</td>\n",
              "      <td>...</td>\n",
              "      <td>Kevin Love</td>\n",
              "      <td>NaN</td>\n",
              "      <td>1</td>\n",
              "      <td>MISSED</td>\n",
              "      <td>CLE</td>\n",
              "      <td>CLE_NYK</td>\n",
              "      <td>0.0</td>\n",
              "      <td>-2.0</td>\n",
              "      <td>3.621119</td>\n",
              "      <td>Yakın</td>\n",
              "    </tr>\n",
              "    <tr>\n",
              "      <th>2</th>\n",
              "      <td>2</td>\n",
              "      <td>SCORED</td>\n",
              "      <td>SF</td>\n",
              "      <td>No</td>\n",
              "      <td>76.0</td>\n",
              "      <td>MISSED</td>\n",
              "      <td>CLE</td>\n",
              "      <td>Jump Shot</td>\n",
              "      <td>2</td>\n",
              "      <td>NYK</td>\n",
              "      <td>...</td>\n",
              "      <td>Carmelo Anthony</td>\n",
              "      <td>24.0</td>\n",
              "      <td>1</td>\n",
              "      <td>MISSED</td>\n",
              "      <td>OPP</td>\n",
              "      <td>CLE_NYK</td>\n",
              "      <td>0.0</td>\n",
              "      <td>-2.0</td>\n",
              "      <td>19.534649</td>\n",
              "      <td>Orta</td>\n",
              "    </tr>\n",
              "    <tr>\n",
              "      <th>3</th>\n",
              "      <td>3</td>\n",
              "      <td>MISSED</td>\n",
              "      <td>PF</td>\n",
              "      <td>No</td>\n",
              "      <td>89.0</td>\n",
              "      <td>MISSED</td>\n",
              "      <td>CLE</td>\n",
              "      <td>Tip Layup Shot</td>\n",
              "      <td>2</td>\n",
              "      <td>NYK</td>\n",
              "      <td>...</td>\n",
              "      <td>Kristaps Porzingis</td>\n",
              "      <td>1.0</td>\n",
              "      <td>1</td>\n",
              "      <td>SCORED</td>\n",
              "      <td>OPP</td>\n",
              "      <td>CLE_NYK</td>\n",
              "      <td>2.0</td>\n",
              "      <td>-2.0</td>\n",
              "      <td>2.412986</td>\n",
              "      <td>Yakın</td>\n",
              "    </tr>\n",
              "    <tr>\n",
              "      <th>4</th>\n",
              "      <td>4</td>\n",
              "      <td>SCORED</td>\n",
              "      <td>SF</td>\n",
              "      <td>Yes</td>\n",
              "      <td>5.2</td>\n",
              "      <td>MISSED</td>\n",
              "      <td>CLE</td>\n",
              "      <td>Running Dunk</td>\n",
              "      <td>2</td>\n",
              "      <td>NYK</td>\n",
              "      <td>...</td>\n",
              "      <td>Richard Jefferson</td>\n",
              "      <td>21.0</td>\n",
              "      <td>1</td>\n",
              "      <td>SCORED</td>\n",
              "      <td>CLE</td>\n",
              "      <td>CLE_NYK</td>\n",
              "      <td>2.0</td>\n",
              "      <td>-4.0</td>\n",
              "      <td>0.050000</td>\n",
              "      <td>Yakın</td>\n",
              "    </tr>\n",
              "    <tr>\n",
              "      <th>...</th>\n",
              "      <td>...</td>\n",
              "      <td>...</td>\n",
              "      <td>...</td>\n",
              "      <td>...</td>\n",
              "      <td>...</td>\n",
              "      <td>...</td>\n",
              "      <td>...</td>\n",
              "      <td>...</td>\n",
              "      <td>...</td>\n",
              "      <td>...</td>\n",
              "      <td>...</td>\n",
              "      <td>...</td>\n",
              "      <td>...</td>\n",
              "      <td>...</td>\n",
              "      <td>...</td>\n",
              "      <td>...</td>\n",
              "      <td>...</td>\n",
              "      <td>...</td>\n",
              "      <td>...</td>\n",
              "      <td>...</td>\n",
              "      <td>...</td>\n",
              "    </tr>\n",
              "    <tr>\n",
              "      <th>13546</th>\n",
              "      <td>13546</td>\n",
              "      <td>MISSED</td>\n",
              "      <td>C</td>\n",
              "      <td>Yes</td>\n",
              "      <td>83.8</td>\n",
              "      <td>SCORED</td>\n",
              "      <td>CLE</td>\n",
              "      <td>Hook Shot</td>\n",
              "      <td>2</td>\n",
              "      <td>TOR</td>\n",
              "      <td>...</td>\n",
              "      <td>Walter Tavares</td>\n",
              "      <td>76.0</td>\n",
              "      <td>4</td>\n",
              "      <td>MISSED</td>\n",
              "      <td>CLE</td>\n",
              "      <td>CLE_TOR</td>\n",
              "      <td>0.0</td>\n",
              "      <td>-22.0</td>\n",
              "      <td>5.338773</td>\n",
              "      <td>Yakın</td>\n",
              "    </tr>\n",
              "    <tr>\n",
              "      <th>13547</th>\n",
              "      <td>13547</td>\n",
              "      <td>SCORED</td>\n",
              "      <td>SF</td>\n",
              "      <td>No</td>\n",
              "      <td>8.7</td>\n",
              "      <td>MISSED</td>\n",
              "      <td>CLE</td>\n",
              "      <td>Jump Shot</td>\n",
              "      <td>2</td>\n",
              "      <td>TOR</td>\n",
              "      <td>...</td>\n",
              "      <td>Bruno Caboclo</td>\n",
              "      <td>25.0</td>\n",
              "      <td>4</td>\n",
              "      <td>SCORED</td>\n",
              "      <td>OPP</td>\n",
              "      <td>CLE_TOR</td>\n",
              "      <td>2.0</td>\n",
              "      <td>-22.0</td>\n",
              "      <td>19.409083</td>\n",
              "      <td>Orta</td>\n",
              "    </tr>\n",
              "    <tr>\n",
              "      <th>13548</th>\n",
              "      <td>13548</td>\n",
              "      <td>MISSED</td>\n",
              "      <td>SF</td>\n",
              "      <td>Yes</td>\n",
              "      <td>89.5</td>\n",
              "      <td>SCORED</td>\n",
              "      <td>CLE</td>\n",
              "      <td>Jump Shot</td>\n",
              "      <td>3</td>\n",
              "      <td>TOR</td>\n",
              "      <td>...</td>\n",
              "      <td>James Jones</td>\n",
              "      <td>33.0</td>\n",
              "      <td>4</td>\n",
              "      <td>MISSED</td>\n",
              "      <td>CLE</td>\n",
              "      <td>CLE_TOR</td>\n",
              "      <td>0.0</td>\n",
              "      <td>-24.0</td>\n",
              "      <td>22.812332</td>\n",
              "      <td>Uzak</td>\n",
              "    </tr>\n",
              "    <tr>\n",
              "      <th>13549</th>\n",
              "      <td>13549</td>\n",
              "      <td>SCORED</td>\n",
              "      <td>C</td>\n",
              "      <td>No</td>\n",
              "      <td>29.8</td>\n",
              "      <td>MISSED</td>\n",
              "      <td>CLE</td>\n",
              "      <td>Jump Shot</td>\n",
              "      <td>3</td>\n",
              "      <td>TOR</td>\n",
              "      <td>...</td>\n",
              "      <td>Lucas Nogueira</td>\n",
              "      <td>41.0</td>\n",
              "      <td>4</td>\n",
              "      <td>MISSED</td>\n",
              "      <td>OPP</td>\n",
              "      <td>CLE_TOR</td>\n",
              "      <td>0.0</td>\n",
              "      <td>-24.0</td>\n",
              "      <td>24.720690</td>\n",
              "      <td>Uzak</td>\n",
              "    </tr>\n",
              "    <tr>\n",
              "      <th>13550</th>\n",
              "      <td>13550</td>\n",
              "      <td>MISSED</td>\n",
              "      <td>SF</td>\n",
              "      <td>Yes</td>\n",
              "      <td>88.7</td>\n",
              "      <td>MISSED</td>\n",
              "      <td>CLE</td>\n",
              "      <td>Driving Reverse Layup</td>\n",
              "      <td>2</td>\n",
              "      <td>TOR</td>\n",
              "      <td>...</td>\n",
              "      <td>James Jones</td>\n",
              "      <td>27.0</td>\n",
              "      <td>4</td>\n",
              "      <td>SCORED</td>\n",
              "      <td>CLE</td>\n",
              "      <td>CLE_TOR</td>\n",
              "      <td>2.0</td>\n",
              "      <td>-24.0</td>\n",
              "      <td>1.201041</td>\n",
              "      <td>Yakın</td>\n",
              "    </tr>\n",
              "  </tbody>\n",
              "</table>\n",
              "<p>13541 rows × 23 columns</p>\n",
              "</div>"
            ],
            "text/plain": [
              "       Unnamed: 0 self previous shot player position home game  location x  \\\n",
              "0               0                NaN              PG        No        88.1   \n",
              "1               1                NaN              PF       Yes         8.7   \n",
              "2               2             SCORED              SF        No        76.0   \n",
              "3               3             MISSED              PF        No        89.0   \n",
              "4               4             SCORED              SF       Yes         5.2   \n",
              "...           ...                ...             ...       ...         ...   \n",
              "13546       13546             MISSED               C       Yes        83.8   \n",
              "13547       13547             SCORED              SF        No         8.7   \n",
              "13548       13548             MISSED              SF       Yes        89.5   \n",
              "13549       13549             SCORED               C        No        29.8   \n",
              "13550       13550             MISSED              SF       Yes        88.7   \n",
              "\n",
              "      opponent previous shot home team              shot type  points  \\\n",
              "0                        NaN       CLE          Driving Layup       2   \n",
              "1                     SCORED       CLE              Hook Shot       2   \n",
              "2                     MISSED       CLE              Jump Shot       2   \n",
              "3                     MISSED       CLE         Tip Layup Shot       2   \n",
              "4                     MISSED       CLE           Running Dunk       2   \n",
              "...                      ...       ...                    ...     ...   \n",
              "13546                 SCORED       CLE              Hook Shot       2   \n",
              "13547                 MISSED       CLE              Jump Shot       2   \n",
              "13548                 SCORED       CLE              Jump Shot       3   \n",
              "13549                 MISSED       CLE              Jump Shot       3   \n",
              "13550                 MISSED       CLE  Driving Reverse Layup       2   \n",
              "\n",
              "      away team  ...        shoot player time from last shot quarter  \\\n",
              "0           NYK  ...        Derrick Rose                 NaN       1   \n",
              "1           NYK  ...          Kevin Love                 NaN       1   \n",
              "2           NYK  ...     Carmelo Anthony                24.0       1   \n",
              "3           NYK  ...  Kristaps Porzingis                 1.0       1   \n",
              "4           NYK  ...   Richard Jefferson                21.0       1   \n",
              "...         ...  ...                 ...                 ...     ...   \n",
              "13546       TOR  ...      Walter Tavares                76.0       4   \n",
              "13547       TOR  ...       Bruno Caboclo                25.0       4   \n",
              "13548       TOR  ...         James Jones                33.0       4   \n",
              "13549       TOR  ...      Lucas Nogueira                41.0       4   \n",
              "13550       TOR  ...         James Jones                27.0       4   \n",
              "\n",
              "      current shot outcome  My_Team  HomeAway points_gained difference  \\\n",
              "0                   SCORED      OPP   CLE_NYK           2.0        0.0   \n",
              "1                   MISSED      CLE   CLE_NYK           0.0       -2.0   \n",
              "2                   MISSED      OPP   CLE_NYK           0.0       -2.0   \n",
              "3                   SCORED      OPP   CLE_NYK           2.0       -2.0   \n",
              "4                   SCORED      CLE   CLE_NYK           2.0       -4.0   \n",
              "...                    ...      ...       ...           ...        ...   \n",
              "13546               MISSED      CLE   CLE_TOR           0.0      -22.0   \n",
              "13547               SCORED      OPP   CLE_TOR           2.0      -22.0   \n",
              "13548               MISSED      CLE   CLE_TOR           0.0      -24.0   \n",
              "13549               MISSED      OPP   CLE_TOR           0.0      -24.0   \n",
              "13550               SCORED      CLE   CLE_TOR           2.0      -24.0   \n",
              "\n",
              "        distance  distance_classification  \n",
              "0       0.763217                    Yakın  \n",
              "1       3.621119                    Yakın  \n",
              "2      19.534649                     Orta  \n",
              "3       2.412986                    Yakın  \n",
              "4       0.050000                    Yakın  \n",
              "...          ...                      ...  \n",
              "13546   5.338773                    Yakın  \n",
              "13547  19.409083                     Orta  \n",
              "13548  22.812332                     Uzak  \n",
              "13549  24.720690                     Uzak  \n",
              "13550   1.201041                    Yakın  \n",
              "\n",
              "[13541 rows x 23 columns]"
            ]
          },
          "execution_count": 16,
          "metadata": {},
          "output_type": "execute_result"
        }
      ],
      "source": [
        "df"
      ],
      "id": "zEEpdVrJYfgS"
    },
    {
      "cell_type": "markdown",
      "metadata": {
        "papermill": {
          "duration": 0.083647,
          "end_time": "2022-05-06T15:04:12.975219",
          "exception": false,
          "start_time": "2022-05-06T15:04:12.891572",
          "status": "completed"
        },
        "tags": [],
        "id": "rArFgusZYfgS"
      },
      "source": [
        "Soru 10"
      ],
      "id": "rArFgusZYfgS"
    },
    {
      "cell_type": "code",
      "execution_count": null,
      "metadata": {
        "execution": {
          "iopub.execute_input": "2022-05-06T15:04:13.154259Z",
          "iopub.status.busy": "2022-05-06T15:04:13.153741Z",
          "iopub.status.idle": "2022-05-06T15:04:13.183024Z",
          "shell.execute_reply": "2022-05-06T15:04:13.182302Z"
        },
        "papermill": {
          "duration": 0.125627,
          "end_time": "2022-05-06T15:04:13.185540",
          "exception": false,
          "start_time": "2022-05-06T15:04:13.059913",
          "status": "completed"
        },
        "tags": [],
        "id": "3FFqMiINYfgS",
        "outputId": "e3efbefd-42a0-4537-bada-1b3f71a68f7e"
      },
      "outputs": [
        {
          "name": "stdout",
          "output_type": "stream",
          "text": [
            "Şut Türlerinin Sayıları:\n",
            " shot type\n",
            "Alley Oop Dunk                          89\n",
            "Alley Oop Layup                         56\n",
            "Cutting Dunk Shot                      188\n",
            "Cutting Finger Roll Layup Shot          19\n",
            "Cutting Layup Shot                     279\n",
            "Driving Bank Hook Shot                   3\n",
            "Driving Bank Shot                       98\n",
            "Driving Dunk                           108\n",
            "Driving Finger Roll Layup              134\n",
            "Driving Floating Bank Jump Shot         42\n",
            "Driving Floating Jump Shot             207\n",
            "Driving Hook Shot                       73\n",
            "Driving Layup                         1018\n",
            "Driving Reverse Dunk Shot                3\n",
            "Driving Reverse Layup                  105\n",
            "Dunk                                   147\n",
            "Fadeaway Bank Shot                      13\n",
            "Fadeaway Jumper                        157\n",
            "Finger Roll Layup                       25\n",
            "Floating Jump Shot                     229\n",
            "Hook Bank Shot                           5\n",
            "Hook Shot                              192\n",
            "Jump Bank Shot                         145\n",
            "Jump Shot                             6647\n",
            "Layup                                  760\n",
            "Pullup Bank Shot                        32\n",
            "Pullup Jump Shot                       696\n",
            "Putback Dunk                            37\n",
            "Putback Layup                          154\n",
            "Reverse Dunk                             6\n",
            "Reverse Layup                          138\n",
            "Running Alley Oop Dunk Shot              6\n",
            "Running Alley Oop Layup Shot             4\n",
            "Running Dunk                           105\n",
            "Running Finger Roll Layup               40\n",
            "Running Hook Shot                        1\n",
            "Running Jump Shot                       78\n",
            "Running Layup                          256\n",
            "Running Pull-Up Jump Shot               26\n",
            "Running Reverse Dunk Shot                1\n",
            "Running Reverse Layup                   23\n",
            "Step Back Bank Jump Shot                 5\n",
            "Step Back Jump Shot                    317\n",
            "Tip Dunk Shot                           37\n",
            "Tip Layup Shot                         275\n",
            "Turnaround Bank Hook Shot                6\n",
            "Turnaround Bank Shot                    36\n",
            "Turnaround Fadeaway                     77\n",
            "Turnaround Fadeaway Bank Jump Shot       2\n",
            "Turnaround Fadeaway Shot                83\n",
            "Turnaround Hook Shot                    99\n",
            "Turnaround Jump Shot                   259\n",
            "Name: shot type, dtype: int64\n",
            "Alfabetik Sıralı Şut Türleri Listesi:\n",
            " ['Alley Oop Dunk', 'Alley Oop Layup', 'Cutting Dunk Shot', 'Cutting Finger Roll Layup Shot', 'Cutting Layup Shot', 'Driving Bank Hook Shot', 'Driving Bank Shot', 'Driving Dunk', 'Driving Finger Roll Layup', 'Driving Floating Bank Jump Shot', 'Driving Floating Jump Shot', 'Driving Hook Shot', 'Driving Layup', 'Driving Reverse Dunk Shot', 'Driving Reverse Layup', 'Dunk', 'Fadeaway Bank Shot', 'Fadeaway Jumper', 'Finger Roll Layup', 'Floating Jump Shot', 'Hook Bank Shot', 'Hook Shot', 'Jump Bank Shot', 'Jump Shot', 'Layup', 'Pullup Bank Shot', 'Pullup Jump Shot', 'Putback Dunk', 'Putback Layup', 'Reverse Dunk', 'Reverse Layup', 'Running Alley Oop Dunk Shot', 'Running Alley Oop Layup Shot', 'Running Dunk', 'Running Finger Roll Layup', 'Running Hook Shot', 'Running Jump Shot', 'Running Layup', 'Running Pull-Up Jump Shot', 'Running Reverse Dunk Shot', 'Running Reverse Layup', 'Step Back Bank Jump Shot', 'Step Back Jump Shot', 'Tip Dunk Shot', 'Tip Layup Shot', 'Turnaround Bank Hook Shot', 'Turnaround Bank Shot', 'Turnaround Fadeaway', 'Turnaround Fadeaway Bank Jump Shot', 'Turnaround Fadeaway Shot', 'Turnaround Hook Shot', 'Turnaround Jump Shot']\n",
            "Kendi İsimlendirdiğim Şut İle Şut Türleri Listesi:\n",
            " ['Alley Oop Dunk', 'Alley Oop Layup', 'Cutting Dunk Shot', 'Cutting Finger Roll Layup Shot', 'Cutting Layup Shot', 'Driving Bank Hook Shot', 'Driving Bank Shot', 'Driving Dunk', 'Driving Finger Roll Layup', 'Driving Floating Bank Jump Shot', 'Driving Floating Jump Shot', 'Driving Hook Shot', 'Driving Layup', 'Driving Reverse Dunk Shot', 'Driving Reverse Layup', 'Dunk', 'Fadeaway Bank Shot', 'Fadeaway Jumper', 'Finger Roll Layup', 'Floating Jump Shot', 'Hook Bank Shot', 'Hook Shot', 'Jump Bank Shot', 'Jump Shot', 'Layup', 'Pullup Bank Shot', 'Pullup Jump Shot', 'Putback Dunk', 'Putback Layup', 'Reverse Dunk', 'Reverse Layup', 'Running Alley Oop Dunk Shot', 'Running Alley Oop Layup Shot', 'Running Dunk', 'Running Finger Roll Layup', 'Running Hook Shot', 'Running Jump Shot', 'Running Layup', 'Running Pull-Up Jump Shot', 'Running Reverse Dunk Shot', 'Running Reverse Layup', 'Step Back Bank Jump Shot', 'Step Back Jump Shot', 'Tip Dunk Shot', 'Tip Layup Shot', 'Turnaround Bank Hook Shot', 'Turnaround Bank Shot', 'Turnaround Fadeaway', 'Turnaround Fadeaway Bank Jump Shot', 'Turnaround Fadeaway Shot', 'Turnaround Hook Shot', 'Turnaround Jump Shot', 'Yusuf Shot']\n",
            "Kendi İsimlendirdiğim Şut Silindikten Sonra Şut Türleri Listesi:\n",
            " ['Alley Oop Dunk', 'Alley Oop Layup', 'Cutting Dunk Shot', 'Cutting Finger Roll Layup Shot', 'Cutting Layup Shot', 'Driving Bank Hook Shot', 'Driving Bank Shot', 'Driving Dunk', 'Driving Finger Roll Layup', 'Driving Floating Bank Jump Shot', 'Driving Floating Jump Shot', 'Driving Hook Shot', 'Driving Layup', 'Driving Reverse Dunk Shot', 'Driving Reverse Layup', 'Dunk', 'Fadeaway Bank Shot', 'Fadeaway Jumper', 'Finger Roll Layup', 'Floating Jump Shot', 'Hook Bank Shot', 'Hook Shot', 'Jump Bank Shot', 'Jump Shot', 'Layup', 'Pullup Bank Shot', 'Pullup Jump Shot', 'Putback Dunk', 'Putback Layup', 'Reverse Dunk', 'Reverse Layup', 'Running Alley Oop Dunk Shot', 'Running Alley Oop Layup Shot', 'Running Dunk', 'Running Finger Roll Layup', 'Running Hook Shot', 'Running Jump Shot', 'Running Layup', 'Running Pull-Up Jump Shot', 'Running Reverse Dunk Shot', 'Running Reverse Layup', 'Step Back Bank Jump Shot', 'Step Back Jump Shot', 'Tip Dunk Shot', 'Tip Layup Shot', 'Turnaround Bank Hook Shot', 'Turnaround Bank Shot', 'Turnaround Fadeaway', 'Turnaround Fadeaway Bank Jump Shot', 'Turnaround Fadeaway Shot', 'Turnaround Hook Shot', 'Turnaround Jump Shot']\n",
            "Bank Shot İçeren İndexlerin Listesi :\n",
            " [109, 125, 131, 135, 169, 183, 228, 313, 320, 397, 436, 441, 461, 514, 537, 544, 567, 568, 579, 599, 619, 650, 670, 677, 758, 857, 866, 895, 902, 908, 977, 1078, 1114, 1128, 1147, 1170, 1189, 1193, 1200, 1208, 1218, 1239, 1367, 1423, 1428, 1449, 1508, 1544, 1600, 1635, 1685, 1714, 1836, 1869, 1906, 1934, 1945, 1947, 2011, 2047, 2069, 2104, 2127, 2150, 2215, 2653, 2666, 2672, 2707, 2708, 2709, 2760, 3041, 3124, 3161, 3266, 3326, 3365, 3370, 3394, 3408, 3430, 3524, 3574, 3587, 3657, 3661, 3666, 3709, 3710, 3726, 3727, 3760, 3762, 3778, 3783, 3910, 3972, 4007, 4016, 4185, 4192, 4380, 4435, 4470, 4494, 4508, 4526, 4543, 4580, 4591, 4700, 4712, 4724, 4747, 4769, 4871, 4877, 4939, 4946, 4968, 5112, 5114, 5124, 5148, 5231, 5242, 5248, 5250, 5277, 5304, 5306, 5346, 5365, 5370, 5386, 5387, 5393, 5413, 5420, 5430, 5511, 5533, 5588, 5625, 5681, 5694, 5720, 5726, 5741, 5772, 5800, 5825, 5842, 5913, 5923, 5936, 5958, 6032, 6153, 6173, 6516, 6600, 6602, 6665, 6705, 6716, 6729, 6803, 6822, 6829, 6890, 6916, 7110, 7255, 7289, 7360, 7433, 7461, 7580, 7653, 7656, 7824, 7834, 7880, 7887, 7905, 7909, 7952, 7975, 7984, 8018, 8172, 8173, 8239, 8242, 8382, 8419, 8424, 8467, 8509, 8568, 8581, 8690, 8712, 8792, 8808, 8827, 8844, 8911, 8950, 8971, 9036, 9037, 9038, 9072, 9151, 9176, 9200, 9221, 9232, 9265, 9349, 9429, 9471, 9518, 9575, 9593, 9595, 9606, 9662, 9676, 9683, 9704, 9773, 9986, 10005, 10021, 10059, 10076, 10222, 10275, 10295, 10311, 10315, 10341, 10380, 10415, 10445, 10468, 10578, 10788, 10850, 10853, 10856, 10869, 10893, 10913, 10917, 10948, 11023, 11057, 11114, 11159, 11211, 11250, 11276, 11320, 11354, 11408, 11429, 11430, 11433, 11542, 11555, 11560, 11564, 11629, 11634, 11739, 11751, 11778, 11784, 11796, 11849, 11864, 11913, 11937, 11965, 11994, 12150, 12152, 12153, 12167, 12187, 12220, 12228, 12253, 12263, 12273, 12287, 12291, 12344, 12441, 12527, 12557, 12561, 12619, 12621, 12644, 12705, 12747, 12833, 12924, 12967, 13034, 13043, 13045, 13060, 13160, 13197, 13236, 13277, 13308, 13330, 13348, 13367, 13368, 13416]\n"
          ]
        }
      ],
      "source": [
        "# Adım 1\n",
        "shot_type = df.loc[:, [\"shot type\"]]  \n",
        "each_shot_type_number = shot_type.groupby(\"shot type\")[\"shot type\"].count() \n",
        "print(\"Şut Türlerinin Sayıları:\\n\", each_shot_type_number)\n",
        "# Adım 2\n",
        "listed_shot_type_unique = list(shot_type[\"shot type\"].unique())\n",
        "sorted_shot_type_unique = sorted(listed_shot_type_unique)\n",
        "print(\"Alfabetik Sıralı Şut Türleri Listesi:\\n\", sorted_shot_type_unique)\n",
        "# Adım 3\n",
        "sorted_shot_type_unique.append(\"Yusuf Shot\")\n",
        "print(\"Kendi İsimlendirdiğim Şut İle Şut Türleri Listesi:\\n\", sorted_shot_type_unique)\n",
        "# Adım 4\n",
        "sorted_shot_type_unique.pop()\n",
        "print(\"Kendi İsimlendirdiğim Şut Silindikten Sonra Şut Türleri Listesi:\\n\", sorted_shot_type_unique)\n",
        "# Adım 5\n",
        "listed_bank_shot_indexes = list(df.loc[df[\"shot type\"].map(lambda x: \"Bank Shot\" in x)].index) \n",
        "print(\"Bank Shot İçeren İndexlerin Listesi :\\n\", listed_bank_shot_indexes)"
      ],
      "id": "3FFqMiINYfgS"
    },
    {
      "cell_type": "markdown",
      "metadata": {
        "papermill": {
          "duration": 0.085016,
          "end_time": "2022-05-06T15:04:13.358670",
          "exception": false,
          "start_time": "2022-05-06T15:04:13.273654",
          "status": "completed"
        },
        "tags": [],
        "id": "VCqBzKIZYfgT"
      },
      "source": [
        ""
      ],
      "id": "VCqBzKIZYfgT"
    },
    {
      "cell_type": "markdown",
      "metadata": {
        "papermill": {
          "duration": 0.084465,
          "end_time": "2022-05-06T15:04:13.526421",
          "exception": false,
          "start_time": "2022-05-06T15:04:13.441956",
          "status": "completed"
        },
        "tags": [],
        "id": "8noBkXuUYfgT"
      },
      "source": [
        "Soru 11"
      ],
      "id": "8noBkXuUYfgT"
    },
    {
      "cell_type": "code",
      "execution_count": null,
      "metadata": {
        "execution": {
          "iopub.execute_input": "2022-05-06T15:04:13.696671Z",
          "iopub.status.busy": "2022-05-06T15:04:13.696178Z",
          "iopub.status.idle": "2022-05-06T15:04:13.709468Z",
          "shell.execute_reply": "2022-05-06T15:04:13.708709Z"
        },
        "papermill": {
          "duration": 0.101688,
          "end_time": "2022-05-06T15:04:13.711508",
          "exception": false,
          "start_time": "2022-05-06T15:04:13.609820",
          "status": "completed"
        },
        "tags": [],
        "id": "WLVbE_qpYfgT",
        "outputId": "5a6cc161-fb15-4e9a-e57b-5b72a2184830"
      },
      "outputs": [
        {
          "name": "stdout",
          "output_type": "stream",
          "text": [
            "['Driving Layup', 'Tip Layup Shot', 'Cutting Layup Shot', 'Floating Jump Shot', 'Turnaround Jump Shot', 'Layup', 'Running Layup', 'Putback Dunk', 'Step Back Jump Shot', 'Running Reverse Layup', 'Fadeaway Jumper', 'Finger Roll Layup', 'Jump Bank Shot', 'Driving Bank Shot', 'Turnaround Hook Shot', 'Driving Floating Jump Shot', 'Driving Finger Roll Layup', 'Reverse Layup', 'Putback Layup', 'Pullup Bank Shot', 'Turnaround Fadeaway', 'Driving Reverse Layup', 'Driving Floating Bank Jump Shot', 'Turnaround Fadeaway Shot', 'Running Finger Roll Layup', 'Alley Oop Layup', 'Turnaround Bank Shot', 'Running Alley Oop Layup Shot', 'Turnaround Bank Hook Shot', 'Fadeaway Bank Shot', 'Hook Bank Shot', 'Cutting Finger Roll Layup Shot', 'Step Back Bank Jump Shot', 'Turnaround Fadeaway Bank Jump Shot', 'Driving Bank Hook Shot']\n"
          ]
        }
      ],
      "source": [
        "shot_type_a = list(df.loc[df[\"shot type\"].map(lambda x: \"a\" in x)][\"shot type\"].unique()) \n",
        "print(shot_type_a)"
      ],
      "id": "WLVbE_qpYfgT"
    },
    {
      "cell_type": "markdown",
      "metadata": {
        "papermill": {
          "duration": 0.085491,
          "end_time": "2022-05-06T15:04:13.884827",
          "exception": false,
          "start_time": "2022-05-06T15:04:13.799336",
          "status": "completed"
        },
        "tags": [],
        "id": "AiGgCTt6YfgT"
      },
      "source": [
        "Soru 12\n",
        "\n",
        "Ben lokasyonları feet olayından dolayı 10'da birine düşürmüştüm, bu yüzden soruda 250 yerine 25 yazdım."
      ],
      "id": "AiGgCTt6YfgT"
    },
    {
      "cell_type": "code",
      "execution_count": null,
      "metadata": {
        "execution": {
          "iopub.execute_input": "2022-05-06T15:04:14.057954Z",
          "iopub.status.busy": "2022-05-06T15:04:14.057565Z",
          "iopub.status.idle": "2022-05-06T15:04:14.070575Z",
          "shell.execute_reply": "2022-05-06T15:04:14.068713Z"
        },
        "papermill": {
          "duration": 0.103643,
          "end_time": "2022-05-06T15:04:14.073236",
          "exception": false,
          "start_time": "2022-05-06T15:04:13.969593",
          "status": "completed"
        },
        "tags": [],
        "id": "OddNO54cYfgT",
        "outputId": "d2be8d8b-2826-4bd5-a3b0-49d1adc179e0"
      },
      "outputs": [
        {
          "data": {
            "text/plain": [
              "6295"
            ]
          },
          "execution_count": 19,
          "metadata": {},
          "output_type": "execute_result"
        }
      ],
      "source": [
        "def howManyShot(df2):\n",
        "    return sum([shots > 25 for shots in df2[\"location y\"]])\n",
        "howManyShot(df)"
      ],
      "id": "OddNO54cYfgT"
    },
    {
      "cell_type": "markdown",
      "metadata": {
        "papermill": {
          "duration": 0.088494,
          "end_time": "2022-05-06T15:04:14.249467",
          "exception": false,
          "start_time": "2022-05-06T15:04:14.160973",
          "status": "completed"
        },
        "tags": [],
        "id": "0fAiMbpnYfgT"
      },
      "source": [
        "Soru 13"
      ],
      "id": "0fAiMbpnYfgT"
    },
    {
      "cell_type": "code",
      "execution_count": null,
      "metadata": {
        "execution": {
          "iopub.execute_input": "2022-05-06T15:04:14.429174Z",
          "iopub.status.busy": "2022-05-06T15:04:14.428904Z",
          "iopub.status.idle": "2022-05-06T15:04:14.720987Z",
          "shell.execute_reply": "2022-05-06T15:04:14.719449Z"
        },
        "papermill": {
          "duration": 0.384199,
          "end_time": "2022-05-06T15:04:14.722961",
          "exception": false,
          "start_time": "2022-05-06T15:04:14.338762",
          "status": "completed"
        },
        "tags": [],
        "id": "g4UGFxn0YfgU",
        "outputId": "f8daa431-1857-4387-ea50-787700b6b847"
      },
      "outputs": [
        {
          "data": {
            "text/plain": [
              "0        ilk çeyrek\n",
              "1        ilk çeyrek\n",
              "2        ilk çeyrek\n",
              "3        ilk çeyrek\n",
              "4        ilk çeyrek\n",
              "            ...    \n",
              "13546    son çeyrek\n",
              "13547    son çeyrek\n",
              "13548    son çeyrek\n",
              "13549    son çeyrek\n",
              "13550    son çeyrek\n",
              "Length: 13541, dtype: object"
            ]
          },
          "execution_count": 20,
          "metadata": {},
          "output_type": "execute_result"
        }
      ],
      "source": [
        "dict_quarter = {1: \"ilk çeyrek\", 2: \"ikinci çeyrek\", 3: \"üçüncü çeyrek\", 4: \"son çeyrek\", 5: \"ilk uzatma\", 6: \"ikinci uzatma\"}\n",
        "series_quarter = df.apply(lambda x: dict_quarter[x.quarter], axis = 1)\n",
        "series_quarter"
      ],
      "id": "g4UGFxn0YfgU"
    },
    {
      "cell_type": "markdown",
      "metadata": {
        "papermill": {
          "duration": 0.088694,
          "end_time": "2022-05-06T15:04:14.896202",
          "exception": false,
          "start_time": "2022-05-06T15:04:14.807508",
          "status": "completed"
        },
        "tags": [],
        "id": "1NB0mGcEYfgU"
      },
      "source": [
        "Soru 14"
      ],
      "id": "1NB0mGcEYfgU"
    },
    {
      "cell_type": "markdown",
      "metadata": {
        "papermill": {
          "duration": 0.087124,
          "end_time": "2022-05-06T15:04:15.072894",
          "exception": false,
          "start_time": "2022-05-06T15:04:14.985770",
          "status": "completed"
        },
        "tags": [],
        "id": "Y9qVT0FnYfgU"
      },
      "source": [
        "Python'a giriş yaptıktan sonra pandas kütüphanesini öğrendik. Başta pd.DataFrame(), pd.read_csv() gibi fonksiyonlarını gördük. head(), describe(), astype(), loc, iloc, value_counts(),groupby(), sort_values(), fillna() gibi daha saymakla bitiremeyeceğimiz bir sürü fonksiyonunu gördük. Veri görselleştirme için matplotlib, seaborn gibi kütüphaneler gördük. Seaborn'da lineplot, barplot, heatmap, scatterplot, regplot, lmplot, swarmplot, distplot, kdeplot, jointplot gibi plot türleri gördük. Makine öğrenmesi kısmında bu konuda başı çeken sklearn kütüphanesini gördük. Bu kütüphaneden random forest ve decision tree için yararlandık. Mean Absolute Error için de yararlandık.\n",
        "Sklearn kütüphanesinden henüz Naive bayesi görmedik. Bu şekilde from sklearn.naive_bayes import GaussianNB import ederiz. Parametre olarak var_smoothing alır. Bu parametrelerle oynanarak modelin accuracy değeriyle oynanabilir."
      ],
      "id": "Y9qVT0FnYfgU"
    },
    {
      "cell_type": "markdown",
      "metadata": {
        "papermill": {
          "duration": 0.083116,
          "end_time": "2022-05-06T15:04:15.242019",
          "exception": false,
          "start_time": "2022-05-06T15:04:15.158903",
          "status": "completed"
        },
        "tags": [],
        "id": "v2izRj4lYfgU"
      },
      "source": [
        "Soru 15"
      ],
      "id": "v2izRj4lYfgU"
    },
    {
      "cell_type": "code",
      "execution_count": null,
      "metadata": {
        "execution": {
          "iopub.execute_input": "2022-05-06T15:04:15.414212Z",
          "iopub.status.busy": "2022-05-06T15:04:15.413702Z",
          "iopub.status.idle": "2022-05-06T15:04:15.427885Z",
          "shell.execute_reply": "2022-05-06T15:04:15.426771Z"
        },
        "papermill": {
          "duration": 0.104489,
          "end_time": "2022-05-06T15:04:15.430570",
          "exception": false,
          "start_time": "2022-05-06T15:04:15.326081",
          "status": "completed"
        },
        "tags": [],
        "id": "J5nL-uaoYfgU",
        "outputId": "df2b1cd5-1c90-4d6f-a3e8-87ef0cb347c9"
      },
      "outputs": [
        {
          "data": {
            "text/plain": [
              "HomeAway  current shot outcome\n",
              "ATL_CLE   BLOCKED                  3\n",
              "          MISSED                  20\n",
              "          SCORED                  25\n",
              "CLE_ATL   BLOCKED                  1\n",
              "          MISSED                  11\n",
              "          SCORED                  20\n",
              "CLE_NYK   MISSED                   9\n",
              "          SCORED                  16\n",
              "NYK_CLE   BLOCKED                  1\n",
              "          MISSED                  10\n",
              "          SCORED                  19\n",
              "dtype: int64"
            ]
          },
          "execution_count": 21,
          "metadata": {},
          "output_type": "execute_result"
        }
      ],
      "source": [
        "df_Lebron_ATL_NYK = df_Lebron.loc[(df_Lebron[\"HomeAway\"] == \"CLE_NYK\") | (df_Lebron[\"HomeAway\"] == \"NYK_CLE\") | (df_Lebron[\"HomeAway\"] == \"ATL_CLE\") | (df_Lebron[\"HomeAway\"] == \"CLE_ATL\")]\n",
        "Lebron_Shots_ATL_NYK = df_Lebron_ATL_NYK.groupby([\"HomeAway\", \"current shot outcome\"]).size()\n",
        "Lebron_Shots_ATL_NYK"
      ],
      "id": "J5nL-uaoYfgU"
    },
    {
      "cell_type": "markdown",
      "metadata": {
        "papermill": {
          "duration": 0.100421,
          "end_time": "2022-05-06T15:04:15.622459",
          "exception": false,
          "start_time": "2022-05-06T15:04:15.522038",
          "status": "completed"
        },
        "tags": [],
        "id": "Sji-U0txYfgU"
      },
      "source": [
        "Soru 16"
      ],
      "id": "Sji-U0txYfgU"
    },
    {
      "cell_type": "code",
      "execution_count": null,
      "metadata": {
        "execution": {
          "iopub.execute_input": "2022-05-06T15:04:15.812162Z",
          "iopub.status.busy": "2022-05-06T15:04:15.811454Z",
          "iopub.status.idle": "2022-05-06T15:04:15.969423Z",
          "shell.execute_reply": "2022-05-06T15:04:15.968235Z"
        },
        "papermill": {
          "duration": 0.252463,
          "end_time": "2022-05-06T15:04:15.971777",
          "exception": false,
          "start_time": "2022-05-06T15:04:15.719314",
          "status": "completed"
        },
        "tags": [],
        "id": "cGgV11NBYfgU",
        "outputId": "33f39307-5ef9-437f-f0b3-6fe1ae90ccd9"
      },
      "outputs": [
        {
          "data": {
            "text/plain": [
              "shoot player   quarter\n",
              "A.J. Hammons   4           2294\n",
              "Aaron Brooks   1          12309\n",
              "               2           1830\n",
              "               3           1867\n",
              "               4           9188\n",
              "                          ...  \n",
              "Zach Randolph  3           3766\n",
              "               4           3938\n",
              "Zaza Pachulia  1           6417\n",
              "               2           6438\n",
              "               3           6513\n",
              "Name: distance, Length: 1321, dtype: int64"
            ]
          },
          "execution_count": 22,
          "metadata": {},
          "output_type": "execute_result"
        }
      ],
      "source": [
        "max_distance = df.groupby([\"shoot player\", \"quarter\"]).distance.idxmax()\n",
        "max_distance"
      ],
      "id": "cGgV11NBYfgU"
    },
    {
      "cell_type": "markdown",
      "metadata": {
        "papermill": {
          "duration": 0.092653,
          "end_time": "2022-05-06T15:04:16.157355",
          "exception": false,
          "start_time": "2022-05-06T15:04:16.064702",
          "status": "completed"
        },
        "tags": [],
        "id": "zGee9Cv4YfgV"
      },
      "source": [
        "Soru 17"
      ],
      "id": "zGee9Cv4YfgV"
    },
    {
      "cell_type": "code",
      "execution_count": null,
      "metadata": {
        "execution": {
          "iopub.execute_input": "2022-05-06T15:04:16.337858Z",
          "iopub.status.busy": "2022-05-06T15:04:16.337585Z",
          "iopub.status.idle": "2022-05-06T15:04:16.359367Z",
          "shell.execute_reply": "2022-05-06T15:04:16.358284Z"
        },
        "papermill": {
          "duration": 0.114835,
          "end_time": "2022-05-06T15:04:16.362285",
          "exception": false,
          "start_time": "2022-05-06T15:04:16.247450",
          "status": "completed"
        },
        "tags": [],
        "id": "F47lW5nYYfgV",
        "outputId": "c3ecd196-21f2-4e49-bfe3-9da4566d35bf"
      },
      "outputs": [
        {
          "data": {
            "text/html": [
              "<div>\n",
              "<style scoped>\n",
              "    .dataframe tbody tr th:only-of-type {\n",
              "        vertical-align: middle;\n",
              "    }\n",
              "\n",
              "    .dataframe tbody tr th {\n",
              "        vertical-align: top;\n",
              "    }\n",
              "\n",
              "    .dataframe thead th {\n",
              "        text-align: right;\n",
              "    }\n",
              "</style>\n",
              "<table border=\"1\" class=\"dataframe\">\n",
              "  <thead>\n",
              "    <tr style=\"text-align: right;\">\n",
              "      <th></th>\n",
              "      <th>shoot player</th>\n",
              "      <th>HomeAway</th>\n",
              "      <th>sum shoots</th>\n",
              "    </tr>\n",
              "  </thead>\n",
              "  <tbody>\n",
              "    <tr>\n",
              "      <th>385</th>\n",
              "      <td>Kyrie Irving</td>\n",
              "      <td>ATL_CLE</td>\n",
              "      <td>51</td>\n",
              "    </tr>\n",
              "    <tr>\n",
              "      <th>438</th>\n",
              "      <td>LeBron James</td>\n",
              "      <td>ATL_CLE</td>\n",
              "      <td>48</td>\n",
              "    </tr>\n",
              "    <tr>\n",
              "      <th>435</th>\n",
              "      <td>Kyrie Irving</td>\n",
              "      <td>WAS_CLE</td>\n",
              "      <td>47</td>\n",
              "    </tr>\n",
              "    <tr>\n",
              "      <th>452</th>\n",
              "      <td>LeBron James</td>\n",
              "      <td>CLE_IND</td>\n",
              "      <td>46</td>\n",
              "    </tr>\n",
              "    <tr>\n",
              "      <th>446</th>\n",
              "      <td>LeBron James</td>\n",
              "      <td>CLE_CHA</td>\n",
              "      <td>45</td>\n",
              "    </tr>\n",
              "    <tr>\n",
              "      <th>...</th>\n",
              "      <td>...</td>\n",
              "      <td>...</td>\n",
              "      <td>...</td>\n",
              "    </tr>\n",
              "    <tr>\n",
              "      <th>63</th>\n",
              "      <td>Chris Andersen</td>\n",
              "      <td>NYK_CLE</td>\n",
              "      <td>1</td>\n",
              "    </tr>\n",
              "    <tr>\n",
              "      <th>62</th>\n",
              "      <td>Chris Andersen</td>\n",
              "      <td>MIL_CLE</td>\n",
              "      <td>1</td>\n",
              "    </tr>\n",
              "    <tr>\n",
              "      <th>60</th>\n",
              "      <td>Chris Andersen</td>\n",
              "      <td>IND_CLE</td>\n",
              "      <td>1</td>\n",
              "    </tr>\n",
              "    <tr>\n",
              "      <th>57</th>\n",
              "      <td>Chris Andersen</td>\n",
              "      <td>CLE_NYK</td>\n",
              "      <td>1</td>\n",
              "    </tr>\n",
              "    <tr>\n",
              "      <th>56</th>\n",
              "      <td>Chris Andersen</td>\n",
              "      <td>CLE_MIA</td>\n",
              "      <td>1</td>\n",
              "    </tr>\n",
              "  </tbody>\n",
              "</table>\n",
              "<p>617 rows × 3 columns</p>\n",
              "</div>"
            ],
            "text/plain": [
              "       shoot player HomeAway  sum shoots\n",
              "385    Kyrie Irving  ATL_CLE          51\n",
              "438    LeBron James  ATL_CLE          48\n",
              "435    Kyrie Irving  WAS_CLE          47\n",
              "452    LeBron James  CLE_IND          46\n",
              "446    LeBron James  CLE_CHA          45\n",
              "..              ...      ...         ...\n",
              "63   Chris Andersen  NYK_CLE           1\n",
              "62   Chris Andersen  MIL_CLE           1\n",
              "60   Chris Andersen  IND_CLE           1\n",
              "57   Chris Andersen  CLE_NYK           1\n",
              "56   Chris Andersen  CLE_MIA           1\n",
              "\n",
              "[617 rows x 3 columns]"
            ]
          },
          "execution_count": 23,
          "metadata": {},
          "output_type": "execute_result"
        }
      ],
      "source": [
        "shots_CLE = CLE_df.groupby([\"shoot player\", \"HomeAway\"]).size().reset_index(name= \"sum shoots\")\n",
        "shots_CLE.sort_values(by = [\"sum shoots\", \"shoot player\", \"HomeAway\"], ascending = False, inplace = True)\n",
        "shots_CLE"
      ],
      "id": "F47lW5nYYfgV"
    },
    {
      "cell_type": "markdown",
      "metadata": {
        "papermill": {
          "duration": 0.088679,
          "end_time": "2022-05-06T15:04:16.540770",
          "exception": false,
          "start_time": "2022-05-06T15:04:16.452091",
          "status": "completed"
        },
        "tags": [],
        "id": "PrQWwAuCYfgV"
      },
      "source": [
        "Soru 18"
      ],
      "id": "PrQWwAuCYfgV"
    },
    {
      "cell_type": "code",
      "execution_count": null,
      "metadata": {
        "execution": {
          "iopub.execute_input": "2022-05-06T15:04:16.718776Z",
          "iopub.status.busy": "2022-05-06T15:04:16.718493Z",
          "iopub.status.idle": "2022-05-06T15:04:16.764610Z",
          "shell.execute_reply": "2022-05-06T15:04:16.763836Z"
        },
        "papermill": {
          "duration": 0.139722,
          "end_time": "2022-05-06T15:04:16.767493",
          "exception": false,
          "start_time": "2022-05-06T15:04:16.627771",
          "status": "completed"
        },
        "tags": [],
        "id": "8vJRZcawYfgV",
        "outputId": "f6980532-edd3-4d71-9ca9-d7f4953cc193"
      },
      "outputs": [
        {
          "name": "stdout",
          "output_type": "stream",
          "text": [
            "Orjinal Verinin Türleri: \n",
            " Unnamed: 0                   int64\n",
            "self previous shot          object\n",
            "player position             object\n",
            "home game                   object\n",
            "location x                 float64\n",
            "opponent previous shot      object\n",
            "home team                   object\n",
            "shot type                   object\n",
            "points                       int64\n",
            "away team                   object\n",
            "location y                 float64\n",
            "time                        object\n",
            "date                        object\n",
            "shoot player                object\n",
            "time from last shot        float64\n",
            "quarter                      int64\n",
            "current shot outcome        object\n",
            "My_Team                     object\n",
            "HomeAway                    object\n",
            "points_gained              float64\n",
            "difference                 float64\n",
            "distance                   float64\n",
            "distance_classification     object\n",
            "dtype: object\n",
            "Çevirilen Verinin Türleri: \n",
            " Unnamed: 0                 float64\n",
            "self previous shot          object\n",
            "player position             object\n",
            "home game                   object\n",
            "location x                   int64\n",
            "opponent previous shot      object\n",
            "home team                   object\n",
            "shot type                   object\n",
            "points                     float64\n",
            "away team                   object\n",
            "location y                   int64\n",
            "time                        object\n",
            "date                        object\n",
            "shoot player                object\n",
            "time from last shot          int64\n",
            "quarter                    float64\n",
            "current shot outcome        object\n",
            "My_Team                     object\n",
            "HomeAway                    object\n",
            "points_gained                int64\n",
            "difference                   int64\n",
            "distance                     int64\n",
            "distance_classification     object\n",
            "dtype: object\n"
          ]
        }
      ],
      "source": [
        "def convert_type(df2_dtypes):\n",
        "    if df2_dtypes == \"int64\":\n",
        "        return \"float64\"\n",
        "    elif df2_dtypes == \"float64\":\n",
        "        return \"int64\"\n",
        "    else:\n",
        "        return df2_dtypes\n",
        "second_df = df.copy()\n",
        "converted_dtypes = second_df.dtypes.apply(convert_type)\n",
        "second_df = second_df.fillna(0).astype(converted_dtypes) # Doğru bir şekilde çevirmek için\n",
        "print(\"Orjinal Verinin Türleri: \\n\", df.dtypes)\n",
        "print(\"Çevirilen Verinin Türleri: \\n\", second_df.dtypes)\n"
      ],
      "id": "8vJRZcawYfgV"
    },
    {
      "cell_type": "markdown",
      "metadata": {
        "papermill": {
          "duration": 0.0912,
          "end_time": "2022-05-06T15:04:16.950498",
          "exception": false,
          "start_time": "2022-05-06T15:04:16.859298",
          "status": "completed"
        },
        "tags": [],
        "id": "65Utu90TYfgV"
      },
      "source": [
        "fillna() ile second_df'teki orjinal veriden kopyalanan NaN değerlere sahip 3 sütun doldurulmuştur. 3 NaN değere sahip sütun:"
      ],
      "id": "65Utu90TYfgV"
    },
    {
      "cell_type": "code",
      "execution_count": null,
      "metadata": {
        "execution": {
          "iopub.execute_input": "2022-05-06T15:04:17.136409Z",
          "iopub.status.busy": "2022-05-06T15:04:17.136133Z",
          "iopub.status.idle": "2022-05-06T15:04:17.167056Z",
          "shell.execute_reply": "2022-05-06T15:04:17.166397Z"
        },
        "papermill": {
          "duration": 0.127897,
          "end_time": "2022-05-06T15:04:17.169555",
          "exception": false,
          "start_time": "2022-05-06T15:04:17.041658",
          "status": "completed"
        },
        "tags": [],
        "id": "nyEiXZq5YfgV",
        "outputId": "937069c4-d4cb-4425-846b-bee9d3155136"
      },
      "outputs": [
        {
          "data": {
            "text/plain": [
              "time from last shot        640\n",
              "self previous shot         156\n",
              "opponent previous shot      99\n",
              "Unnamed: 0                   0\n",
              "shoot player                 0\n",
              "distance                     0\n",
              "difference                   0\n",
              "points_gained                0\n",
              "HomeAway                     0\n",
              "My_Team                      0\n",
              "current shot outcome         0\n",
              "quarter                      0\n",
              "time                         0\n",
              "date                         0\n",
              "location y                   0\n",
              "away team                    0\n",
              "points                       0\n",
              "shot type                    0\n",
              "home team                    0\n",
              "location x                   0\n",
              "home game                    0\n",
              "player position              0\n",
              "distance_classification      0\n",
              "dtype: int64"
            ]
          },
          "execution_count": 25,
          "metadata": {},
          "output_type": "execute_result"
        }
      ],
      "source": [
        "df.isnull().sum().sort_values(ascending=False)"
      ],
      "id": "nyEiXZq5YfgV"
    },
    {
      "cell_type": "markdown",
      "metadata": {
        "papermill": {
          "duration": 0.093423,
          "end_time": "2022-05-06T15:04:17.355681",
          "exception": false,
          "start_time": "2022-05-06T15:04:17.262258",
          "status": "completed"
        },
        "tags": [],
        "id": "ERrimlM_YfgW"
      },
      "source": [
        "Soru 19"
      ],
      "id": "ERrimlM_YfgW"
    },
    {
      "cell_type": "markdown",
      "metadata": {
        "papermill": {
          "duration": 0.093077,
          "end_time": "2022-05-06T15:04:17.541944",
          "exception": false,
          "start_time": "2022-05-06T15:04:17.448867",
          "status": "completed"
        },
        "tags": [],
        "id": "RWuV966TYfgW"
      },
      "source": [
        "Yukarıda gösterildiği gibi Self Previous Shot Sütununda 156 adet boş veri vardır. Kendi takımının bir önceki şutunun sonucunun gösterildiği sütundur. Bu oyun başı gibi durumlarda NaN olması doğaldır ancak bunları \"Unknown\" gibi spesifik olarak değiştirebiliriz."
      ],
      "id": "RWuV966TYfgW"
    },
    {
      "cell_type": "code",
      "execution_count": null,
      "metadata": {
        "execution": {
          "iopub.execute_input": "2022-05-06T15:04:17.720369Z",
          "iopub.status.busy": "2022-05-06T15:04:17.720064Z",
          "iopub.status.idle": "2022-05-06T15:04:17.728392Z",
          "shell.execute_reply": "2022-05-06T15:04:17.726960Z"
        },
        "papermill": {
          "duration": 0.100116,
          "end_time": "2022-05-06T15:04:17.730489",
          "exception": false,
          "start_time": "2022-05-06T15:04:17.630373",
          "status": "completed"
        },
        "tags": [],
        "id": "fUOtvr3SYfgW"
      },
      "outputs": [],
      "source": [
        "df[\"self previous shot\"] = df[\"self previous shot\"].fillna(\"Unknown\")"
      ],
      "id": "fUOtvr3SYfgW"
    },
    {
      "cell_type": "markdown",
      "metadata": {
        "papermill": {
          "duration": 0.091654,
          "end_time": "2022-05-06T15:04:17.914607",
          "exception": false,
          "start_time": "2022-05-06T15:04:17.822953",
          "status": "completed"
        },
        "tags": [],
        "id": "gl8vsx_5YfgW"
      },
      "source": [
        "Soru 20\n",
        "\n",
        "Asıl veride değişiklik yapmak istemediğim için yukarıda kopyaladığım dataframe kullandım."
      ],
      "id": "gl8vsx_5YfgW"
    },
    {
      "cell_type": "code",
      "execution_count": null,
      "metadata": {
        "execution": {
          "iopub.execute_input": "2022-05-06T15:04:18.099904Z",
          "iopub.status.busy": "2022-05-06T15:04:18.099455Z",
          "iopub.status.idle": "2022-05-06T15:04:18.106467Z",
          "shell.execute_reply": "2022-05-06T15:04:18.105538Z"
        },
        "papermill": {
          "duration": 0.103075,
          "end_time": "2022-05-06T15:04:18.109098",
          "exception": false,
          "start_time": "2022-05-06T15:04:18.006023",
          "status": "completed"
        },
        "tags": [],
        "id": "VMuoJdfMYfgW",
        "outputId": "20b66ee0-e908-4365-d46f-fe77e6b51cbc"
      },
      "outputs": [
        {
          "data": {
            "text/plain": [
              "Index(['Unnamed: 0', 'self previous shot', 'player position', 'home game',\n",
              "       'location x', 'opponent previous shot', 'home team', 'shot type',\n",
              "       'points', 'away team', 'location y', 'time', 'date', 'shoot player',\n",
              "       'time from last shot', 'quarter', 'current shot outcome', 'My_Team',\n",
              "       'HomeAway', 'points_gained', 'difference', 'distance',\n",
              "       'distance_classification'],\n",
              "      dtype='object')"
            ]
          },
          "execution_count": 27,
          "metadata": {},
          "output_type": "execute_result"
        }
      ],
      "source": [
        "second_df.columns"
      ],
      "id": "VMuoJdfMYfgW"
    },
    {
      "cell_type": "code",
      "execution_count": null,
      "metadata": {
        "execution": {
          "iopub.execute_input": "2022-05-06T15:04:18.301330Z",
          "iopub.status.busy": "2022-05-06T15:04:18.300854Z",
          "iopub.status.idle": "2022-05-06T15:04:18.321010Z",
          "shell.execute_reply": "2022-05-06T15:04:18.319641Z"
        },
        "papermill": {
          "duration": 0.120571,
          "end_time": "2022-05-06T15:04:18.323686",
          "exception": false,
          "start_time": "2022-05-06T15:04:18.203115",
          "status": "completed"
        },
        "tags": [],
        "id": "lm7BTJzfYfgW",
        "outputId": "916dcb51-2aba-411b-fe35-c429feba0a67"
      },
      "outputs": [
        {
          "data": {
            "text/plain": [
              "Index(['İsimsiz: 0', 'takımın bir önceki şutu', 'oyuncu konumu', 'ev oyunu',\n",
              "       'x lokasyonu', 'rakibin bir önceki şutu', 'ev takımı', 'şut türü',\n",
              "       'sayı değeri', 'deplasman takımı', 'y lokasyonu', 'süre', 'tarih',\n",
              "       'şutu atan oyuncu', 'son şuttan geçen zaman', 'çeyrek',\n",
              "       'şu anki atış sonucu', 'Takımım', 'EvDeplasman', 'kazanılan_puanlar',\n",
              "       'Fark', 'distance', 'distance_classification'],\n",
              "      dtype='object')"
            ]
          },
          "execution_count": 28,
          "metadata": {},
          "output_type": "execute_result"
        }
      ],
      "source": [
        "second_df.rename(columns={'Unnamed: 0': 'İsimsiz: 0', 'self previous shot': 'takımın bir önceki şutu', 'player position' : 'oyuncu konumu'}, inplace = True)\n",
        "second_df.rename(columns={'home game': 'ev oyunu', 'location x': 'x lokasyonu', 'opponent previous shot' : 'rakibin bir önceki şutu'}, inplace = True)\n",
        "second_df.rename(columns={'home team': 'ev takımı', 'shot type': 'şut türü', 'points' : 'sayı değeri'}, inplace = True)\n",
        "second_df.rename(columns={'away team': 'deplasman takımı', 'location y': 'y lokasyonu', 'time' : 'süre'}, inplace = True)\n",
        "second_df.rename(columns={'date': 'tarih', 'shoot player': 'şutu atan oyuncu', 'time from last shot' : 'son şuttan geçen zaman'}, inplace = True)\n",
        "second_df.rename(columns={'quarter': 'çeyrek', 'current shot outcome': 'şu anki atış sonucu', 'My_Team' : 'Takımım'}, inplace = True)\n",
        "second_df.rename(columns={'HomeAway': 'EvDeplasman', 'points_gained': 'kazanılan_puanlar', 'difference' : 'Fark'}, inplace = True)\n",
        "second_df.columns #kalan sütunlar ödev için uydurduğum sütunlar"
      ],
      "id": "lm7BTJzfYfgW"
    },
    {
      "cell_type": "markdown",
      "metadata": {
        "papermill": {
          "duration": 0.092205,
          "end_time": "2022-05-06T15:04:18.510555",
          "exception": false,
          "start_time": "2022-05-06T15:04:18.418350",
          "status": "completed"
        },
        "tags": [],
        "id": "vSZb_JfaYfgX"
      },
      "source": [
        "Soru 21"
      ],
      "id": "vSZb_JfaYfgX"
    },
    {
      "cell_type": "markdown",
      "metadata": {
        "papermill": {
          "duration": 0.094029,
          "end_time": "2022-05-06T15:04:18.695203",
          "exception": false,
          "start_time": "2022-05-06T15:04:18.601174",
          "status": "completed"
        },
        "tags": [],
        "id": "W3_BonCXYfgX"
      },
      "source": [
        "En basit birleştirme yöntemi concat() yöntemidir. Aynı sütunlara sahip iki farklı dataframe veya seriler için en mantıklısıdır. join() için  en az bir ortak sütun gereklidir. Böylelikle join() farklı DataFrame nesnelerini birleştirmenize izin verir. Eğer aynı şekilde elimizdeki maçlar Cleveland maçlarının devamı ise, aynı sütunlara sahipse concat() oldukça mantıklıdır. Yok bu ekstra maçların olduğu veride farklı sütun ortak bir sütun veya index varsa join() mantıklıdır."
      ],
      "id": "W3_BonCXYfgX"
    },
    {
      "cell_type": "markdown",
      "metadata": {
        "papermill": {
          "duration": 0.089474,
          "end_time": "2022-05-06T15:04:18.878877",
          "exception": false,
          "start_time": "2022-05-06T15:04:18.789403",
          "status": "completed"
        },
        "tags": [],
        "id": "vDt2_sDlYfgX"
      },
      "source": [
        "Soru 22"
      ],
      "id": "vDt2_sDlYfgX"
    },
    {
      "cell_type": "markdown",
      "metadata": {
        "papermill": {
          "duration": 0.091881,
          "end_time": "2022-05-06T15:04:19.059668",
          "exception": false,
          "start_time": "2022-05-06T15:04:18.967787",
          "status": "completed"
        },
        "tags": [],
        "id": "xr2sXVGgYfgX"
      },
      "source": [
        "Aşağıda kullandığım görselleştirme araçlarına baktığımızda current shot outcome ile distance diğerlerine göre daha ilintili görünüyor. Kalanların pek ilişkisi yok gibi duruyor."
      ],
      "id": "xr2sXVGgYfgX"
    },
    {
      "cell_type": "code",
      "execution_count": null,
      "metadata": {
        "execution": {
          "iopub.execute_input": "2022-05-06T15:04:19.249880Z",
          "iopub.status.busy": "2022-05-06T15:04:19.249604Z",
          "iopub.status.idle": "2022-05-06T15:04:32.797841Z",
          "shell.execute_reply": "2022-05-06T15:04:32.796981Z"
        },
        "papermill": {
          "duration": 13.645616,
          "end_time": "2022-05-06T15:04:32.800001",
          "exception": false,
          "start_time": "2022-05-06T15:04:19.154385",
          "status": "completed"
        },
        "tags": [],
        "id": "VT_ztwXHYfgX",
        "outputId": "9adc93bf-75af-444d-d2bf-796ddb6bbe3a"
      },
      "outputs": [
        {
          "data": {
            "text/plain": [
              "<AxesSubplot:xlabel='quarter', ylabel='current shot outcome'>"
            ]
          },
          "execution_count": 29,
          "metadata": {},
          "output_type": "execute_result"
        },
        {
          "data": {
            "image/png": "[encoded data removed]",
            "text/plain": [
              "<Figure size 1296x864 with 6 Axes>"
            ]
          },
          "metadata": {
            "needs_background": "light"
          },
          "output_type": "display_data"
        }
      ],
      "source": [
        "import matplotlib.pyplot as plt\n",
        "import seaborn as sns\n",
        "shot_current = df[\"current shot outcome\"].map({'SCORED':2, 'MISSED':0, 'BLOCKED':0})\n",
        "x_location = df[\"location x\"]\n",
        "y_location = df[\"location y\"]\n",
        "distance2 = df[\"distance\"]\n",
        "points2 = df[\"points\"]\n",
        "time_from_last_shot2 = df[\"time from last shot\"]\n",
        "quarter2 = df[\"quarter\"]\n",
        "listed_data = [x_location, y_location, distance2, points2, time_from_last_shot2, quarter2]\n",
        "df_new = pd.concat(listed_data, axis = 1)\n",
        "\n",
        "fig, axis = plt.subplots(2,3, figsize=(18,12))\n",
        "sns.regplot(ax=axis[0, 0], x = x_location, y = shot_current)\n",
        "sns.regplot(ax=axis[0, 1], x = y_location, y = shot_current)\n",
        "sns.regplot(ax=axis[0, 2], x = distance2, y = shot_current)\n",
        "sns.regplot(ax=axis[1, 0], x = points2, y = shot_current)\n",
        "sns.regplot(ax=axis[1, 1], x = time_from_last_shot2, y = shot_current)\n",
        "sns.regplot(ax=axis[1, 2], x = quarter2  , y = shot_current)"
      ],
      "id": "VT_ztwXHYfgX"
    },
    {
      "cell_type": "code",
      "execution_count": null,
      "metadata": {
        "execution": {
          "iopub.execute_input": "2022-05-06T15:04:32.987782Z",
          "iopub.status.busy": "2022-05-06T15:04:32.987083Z",
          "iopub.status.idle": "2022-05-06T15:04:33.354774Z",
          "shell.execute_reply": "2022-05-06T15:04:33.353880Z"
        },
        "papermill": {
          "duration": 0.463575,
          "end_time": "2022-05-06T15:04:33.357331",
          "exception": false,
          "start_time": "2022-05-06T15:04:32.893756",
          "status": "completed"
        },
        "tags": [],
        "id": "yqLdJj6OYfgX",
        "outputId": "f00a9149-2d81-47c9-a171-4d82286297b7"
      },
      "outputs": [
        {
          "data": {
            "image/png": "[encoded data removed]",
            "text/plain": [
              "<Figure size 864x864 with 2 Axes>"
            ]
          },
          "metadata": {
            "needs_background": "light"
          },
          "output_type": "display_data"
        }
      ],
      "source": [
        "f,ax = plt.subplots(figsize=(12, 12))\n",
        "sns.heatmap(df_new.corr(), annot=True, linewidths=0.5,linecolor=\"red\", fmt= '.2f',ax=ax)\n",
        "plt.show()"
      ],
      "id": "yqLdJj6OYfgX"
    },
    {
      "cell_type": "markdown",
      "metadata": {
        "papermill": {
          "duration": 0.094572,
          "end_time": "2022-05-06T15:04:33.547822",
          "exception": false,
          "start_time": "2022-05-06T15:04:33.453250",
          "status": "completed"
        },
        "tags": [],
        "id": "OjmXnVttYfgX"
      },
      "source": [
        "Soru 23"
      ],
      "id": "OjmXnVttYfgX"
    },
    {
      "cell_type": "markdown",
      "metadata": {
        "papermill": {
          "duration": 0.093056,
          "end_time": "2022-05-06T15:04:33.738166",
          "exception": false,
          "start_time": "2022-05-06T15:04:33.645110",
          "status": "completed"
        },
        "tags": [],
        "id": "VV3bMrFEYfgY"
      },
      "source": [
        "İlintili feature seçimleri olarak aşağıdakileri seçtim."
      ],
      "id": "VV3bMrFEYfgY"
    },
    {
      "cell_type": "code",
      "execution_count": null,
      "metadata": {
        "execution": {
          "iopub.execute_input": "2022-05-06T15:04:33.925302Z",
          "iopub.status.busy": "2022-05-06T15:04:33.925001Z",
          "iopub.status.idle": "2022-05-06T15:04:34.517706Z",
          "shell.execute_reply": "2022-05-06T15:04:34.516312Z"
        },
        "papermill": {
          "duration": 0.690223,
          "end_time": "2022-05-06T15:04:34.520542",
          "exception": false,
          "start_time": "2022-05-06T15:04:33.830319",
          "status": "completed"
        },
        "tags": [],
        "id": "qUI8VwwJYfgY"
      },
      "outputs": [],
      "source": [
        "from sklearn.model_selection import train_test_split\n",
        "\n",
        "df_features = ['location x', 'location y', 'distance', 'points', 'quarter']\n",
        "X = df[df_features]\n",
        "y = pd.get_dummies(df[\"current shot outcome\"])  #current shot outcome integer olamdığı için gereklidir.\n",
        "train_X, val_X, train_y, val_y = train_test_split(X, y, random_state = 1)"
      ],
      "id": "qUI8VwwJYfgY"
    },
    {
      "cell_type": "markdown",
      "metadata": {
        "papermill": {
          "duration": 0.100251,
          "end_time": "2022-05-06T15:04:34.720212",
          "exception": false,
          "start_time": "2022-05-06T15:04:34.619961",
          "status": "completed"
        },
        "tags": [],
        "id": "4x72HRWdYfgY"
      },
      "source": [
        "Soru 24"
      ],
      "id": "4x72HRWdYfgY"
    },
    {
      "cell_type": "code",
      "execution_count": null,
      "metadata": {
        "execution": {
          "iopub.execute_input": "2022-05-06T15:04:34.923113Z",
          "iopub.status.busy": "2022-05-06T15:04:34.922661Z",
          "iopub.status.idle": "2022-05-06T15:04:35.199133Z",
          "shell.execute_reply": "2022-05-06T15:04:35.198591Z"
        },
        "papermill": {
          "duration": 0.380235,
          "end_time": "2022-05-06T15:04:35.201329",
          "exception": false,
          "start_time": "2022-05-06T15:04:34.821094",
          "status": "completed"
        },
        "tags": [],
        "id": "GOxPIIDkYfgY",
        "outputId": "d8a71a7f-b5ee-4864-f9d2-abc273d5ae23"
      },
      "outputs": [
        {
          "name": "stdout",
          "output_type": "stream",
          "text": [
            "0.3220318736703132\n"
          ]
        }
      ],
      "source": [
        "from sklearn.tree import DecisionTreeRegressor\n",
        "from sklearn.metrics import mean_absolute_error\n",
        "\n",
        "df_model = DecisionTreeRegressor(random_state=1)\n",
        "df_model.fit(train_X, train_y)\n",
        "\n",
        "predicted_val = df_model.predict(val_X)\n",
        "print(mean_absolute_error(val_y, predicted_val))"
      ],
      "id": "GOxPIIDkYfgY"
    },
    {
      "cell_type": "markdown",
      "metadata": {
        "papermill": {
          "duration": 0.103356,
          "end_time": "2022-05-06T15:04:35.413908",
          "exception": false,
          "start_time": "2022-05-06T15:04:35.310552",
          "status": "completed"
        },
        "tags": [],
        "id": "jrFQxsTFYfgY"
      },
      "source": [
        "Soru 25"
      ],
      "id": "jrFQxsTFYfgY"
    },
    {
      "cell_type": "markdown",
      "metadata": {
        "papermill": {
          "duration": 0.097604,
          "end_time": "2022-05-06T15:04:35.610965",
          "exception": false,
          "start_time": "2022-05-06T15:04:35.513361",
          "status": "completed"
        },
        "tags": [],
        "id": "Al-v4oGvYfgY"
      },
      "source": [
        " En iyi sonuç verdiği max_leaf_nodes 5000'dir. Sonrasında ona göre bir mean absolute error value bulduğumuzda 0.3211294650596943 çıkmıştır. Mean absolute error ne kadar düşükse bizim için iyidir."
      ],
      "id": "Al-v4oGvYfgY"
    },
    {
      "cell_type": "code",
      "execution_count": null,
      "metadata": {
        "execution": {
          "iopub.execute_input": "2022-05-06T15:04:35.805784Z",
          "iopub.status.busy": "2022-05-06T15:04:35.805332Z",
          "iopub.status.idle": "2022-05-06T15:04:36.078786Z",
          "shell.execute_reply": "2022-05-06T15:04:36.076358Z"
        },
        "papermill": {
          "duration": 0.376339,
          "end_time": "2022-05-06T15:04:36.082425",
          "exception": false,
          "start_time": "2022-05-06T15:04:35.706086",
          "status": "completed"
        },
        "tags": [],
        "id": "owp4_8hnYfgY",
        "outputId": "7e1cc98f-3e98-4978-a05d-fc482a0c25f0"
      },
      "outputs": [
        {
          "name": "stdout",
          "output_type": "stream",
          "text": [
            "Max leaf nodes: 5  \t\t Mean Absolute Error:  0.329066\n",
            "Max leaf nodes: 50  \t\t Mean Absolute Error:  0.326078\n",
            "Max leaf nodes: 250  \t\t Mean Absolute Error:  0.324816\n",
            "Max leaf nodes: 500  \t\t Mean Absolute Error:  0.322916\n",
            "Max leaf nodes: 2500  \t\t Mean Absolute Error:  0.322911\n",
            "Max leaf nodes: 5000  \t\t Mean Absolute Error:  0.321129\n",
            "5000 0.3211294650596943\n"
          ]
        }
      ],
      "source": [
        "def get_mae(max_leaf_nodes, train_X, val_X, train_y, val_y):\n",
        "    model = DecisionTreeRegressor(max_leaf_nodes=max_leaf_nodes, random_state=1)\n",
        "    model.fit(train_X, train_y)\n",
        "    preds_val = model.predict(val_X)\n",
        "    mae = mean_absolute_error(val_y, preds_val)\n",
        "    return(mae)\n",
        "\n",
        "mae_list = []\n",
        "mae_range = [5, 50, 250, 500, 2500, 5000]\n",
        "for max_leaf_nodes in mae_range:\n",
        "    my_mae = get_mae(max_leaf_nodes, train_X, val_X, train_y, val_y)\n",
        "    mae_list.append(my_mae)\n",
        "    print(\"Max leaf nodes: %d  \\t\\t Mean Absolute Error:  %f\" %(max_leaf_nodes, my_mae))\n",
        "\n",
        "min_mae_value = min(mae_list)\n",
        "max_leaf_value = mae_range[mae_list.index(min_mae_value)]\n",
        "print(max_leaf_value, min_mae_value)"
      ],
      "id": "owp4_8hnYfgY"
    },
    {
      "cell_type": "markdown",
      "metadata": {
        "papermill": {
          "duration": 0.108115,
          "end_time": "2022-05-06T15:04:36.298655",
          "exception": false,
          "start_time": "2022-05-06T15:04:36.190540",
          "status": "completed"
        },
        "tags": [],
        "id": "YRnJ4ys3YfgZ"
      },
      "source": [
        "Soru 26"
      ],
      "id": "YRnJ4ys3YfgZ"
    },
    {
      "cell_type": "markdown",
      "metadata": {
        "papermill": {
          "duration": 0.101955,
          "end_time": "2022-05-06T15:04:36.506079",
          "exception": false,
          "start_time": "2022-05-06T15:04:36.404124",
          "status": "completed"
        },
        "tags": [],
        "id": "y78vo_TSYfgZ"
      },
      "source": [
        "Kullanılır ancak gerek yok çünkü daha iyi sonuçlar çıkaracaktır."
      ],
      "id": "y78vo_TSYfgZ"
    },
    {
      "cell_type": "code",
      "execution_count": null,
      "metadata": {
        "execution": {
          "iopub.execute_input": "2022-05-06T15:04:36.714067Z",
          "iopub.status.busy": "2022-05-06T15:04:36.713761Z",
          "iopub.status.idle": "2022-05-06T15:04:40.549262Z",
          "shell.execute_reply": "2022-05-06T15:04:40.548015Z"
        },
        "papermill": {
          "duration": 3.944096,
          "end_time": "2022-05-06T15:04:40.551464",
          "exception": false,
          "start_time": "2022-05-06T15:04:36.607368",
          "status": "completed"
        },
        "tags": [],
        "id": "lLi14QvvYfgZ",
        "outputId": "94fc72e8-c500-4684-9a81-eb901264172a"
      },
      "outputs": [
        {
          "name": "stdout",
          "output_type": "stream",
          "text": [
            "0.3258713092590282\n"
          ]
        }
      ],
      "source": [
        "from sklearn.ensemble import RandomForestRegressor\n",
        "\n",
        "forest_model = RandomForestRegressor(random_state=1)\n",
        "forest_model.fit(train_X, train_y)\n",
        "df_preds = forest_model.predict(val_X)\n",
        "print(mean_absolute_error(val_y, df_preds))"
      ],
      "id": "lLi14QvvYfgZ"
    },
    {
      "cell_type": "markdown",
      "metadata": {
        "papermill": {
          "duration": 0.10723,
          "end_time": "2022-05-06T15:04:40.764249",
          "exception": false,
          "start_time": "2022-05-06T15:04:40.657019",
          "status": "completed"
        },
        "tags": [],
        "id": "NlNbOP65YfgZ"
      },
      "source": [
        "Soru 27"
      ],
      "id": "NlNbOP65YfgZ"
    },
    {
      "cell_type": "code",
      "execution_count": null,
      "metadata": {
        "execution": {
          "iopub.execute_input": "2022-05-06T15:04:40.971687Z",
          "iopub.status.busy": "2022-05-06T15:04:40.971418Z",
          "iopub.status.idle": "2022-05-06T15:04:45.001891Z",
          "shell.execute_reply": "2022-05-06T15:04:45.000575Z"
        },
        "papermill": {
          "duration": 4.13709,
          "end_time": "2022-05-06T15:04:45.004324",
          "exception": false,
          "start_time": "2022-05-06T15:04:40.867234",
          "status": "completed"
        },
        "tags": [],
        "id": "cP3wtdpwYfgZ",
        "outputId": "098cd4ea-21f4-4886-ed29-b7d2754cd981"
      },
      "outputs": [
        {
          "name": "stdout",
          "output_type": "stream",
          "text": [
            "Forest mae 0.3258713092590282\n",
            "Max leaf nodes: 5  \t\t Mean Absolute Error:  0.321129\n",
            "Max leaf nodes: 50  \t\t Mean Absolute Error:  0.321129\n",
            "Max leaf nodes: 250  \t\t Mean Absolute Error:  0.321129\n",
            "Max leaf nodes: 500  \t\t Mean Absolute Error:  0.321129\n",
            "Max leaf nodes: 2500  \t\t Mean Absolute Error:  0.321129\n",
            "Max leaf nodes: 5000  \t\t Mean Absolute Error:  0.321129\n",
            "5000 0.3211294650596943\n"
          ]
        }
      ],
      "source": [
        "def forest_get_mae(max_leaf_nodes, train_X, val_X, train_y, val_y):\n",
        "    model = RandomForestRegressor(max_leaf_nodes=max_leaf_nodes, random_state=1)\n",
        "    model.fit(train_X, train_y)\n",
        "    preds_val = model.predict(val_X)\n",
        "    mae = mean_absolute_error(val_y, preds_val)\n",
        "    return(mae)\n",
        "\n",
        "forest_model2 = RandomForestRegressor(random_state=1)\n",
        "forest_model2.fit(train_X, train_y)\n",
        "\n",
        "forest_predicted_val = forest_model2.predict(val_X)\n",
        "print(\"Forest mae\",mean_absolute_error(val_y, forest_predicted_val))\n",
        "\n",
        "forest_mae_list = []\n",
        "\n",
        "for max_leaf_nodes in mae_range:\n",
        "    my_mae2 = get_mae(max_leaf_nodes, train_X, val_X, train_y, val_y)\n",
        "    forest_mae_list.append(my_mae2)\n",
        "    print(\"Max leaf nodes: %d  \\t\\t Mean Absolute Error:  %f\" %(max_leaf_nodes, my_mae))\n",
        "forest_min_mae_value = min(forest_mae_list)\n",
        "forest_max_leaf_value = mae_range[mae_list.index(forest_min_mae_value)]\n",
        "print(forest_max_leaf_value, forest_min_mae_value)"
      ],
      "id": "cP3wtdpwYfgZ"
    },
    {
      "cell_type": "markdown",
      "metadata": {
        "papermill": {
          "duration": 0.094187,
          "end_time": "2022-05-06T15:04:45.196215",
          "exception": false,
          "start_time": "2022-05-06T15:04:45.102028",
          "status": "completed"
        },
        "tags": [],
        "id": "fuE4kTEzYfgZ"
      },
      "source": [
        "Soru 28"
      ],
      "id": "fuE4kTEzYfgZ"
    },
    {
      "cell_type": "markdown",
      "metadata": {
        "papermill": {
          "duration": 0.108914,
          "end_time": "2022-05-06T15:04:45.404822",
          "exception": false,
          "start_time": "2022-05-06T15:04:45.295908",
          "status": "completed"
        },
        "tags": [],
        "id": "piSAnjbtYfga"
      },
      "source": [
        "Decision tree anlaması ve yorumlaması basittir, ağaçlar görselleştirilebilir.Decision tree en büyük problemlerinden biri overfittingtir. Random forest bunu çözmek için  yüzlerce karar ağacı oluşturuyor ve bu ağaçlar bireysel olarak tahminde bulunuyor. Random forestta farklı veri setleri üzerinde eğitim gerçekleştiği için overfitting azalır. Böylelikle daha iyi sonuçlar vermiş olur."
      ],
      "id": "piSAnjbtYfga"
    },
    {
      "cell_type": "markdown",
      "metadata": {
        "papermill": {
          "duration": 0.101319,
          "end_time": "2022-05-06T15:04:45.608084",
          "exception": false,
          "start_time": "2022-05-06T15:04:45.506765",
          "status": "completed"
        },
        "tags": [],
        "id": "oYBKJG7CYfga"
      },
      "source": [
        "> "
      ],
      "id": "oYBKJG7CYfga"
    }
  ],
  "metadata": {
    "kernelspec": {
      "display_name": "Python 3",
      "language": "python",
      "name": "python3"
    },
    "language_info": {
      "codemirror_mode": {
        "name": "ipython",
        "version": 3
      },
      "file_extension": ".py",
      "mimetype": "text/x-python",
      "name": "python",
      "nbconvert_exporter": "python",
      "pygments_lexer": "ipython3",
      "version": "3.8.5"
    },
    "papermill": {
      "default_parameters": {},
      "duration": 53.433856,
      "end_time": "2022-05-06T15:04:46.933130",
      "environment_variables": {},
      "exception": null,
      "input_path": "__notebook__.ipynb",
      "output_path": "__notebook__.ipynb",
      "parameters": {},
      "start_time": "2022-05-06T15:03:53.499274",
      "version": "2.3.4"
    },
    "colab": {
      "name": "yariyil.ipynb",
      "provenance": []
    }
  },
  "nbformat": 4,
  "nbformat_minor": 5
}